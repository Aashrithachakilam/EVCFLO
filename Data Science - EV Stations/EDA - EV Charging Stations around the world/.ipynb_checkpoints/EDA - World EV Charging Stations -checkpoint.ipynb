{
 "cells": [
  {
   "cell_type": "markdown",
   "id": "1c502661",
   "metadata": {},
   "source": [
    "# EDA - World EV Charging Stations"
   ]
  },
  {
   "cell_type": "markdown",
   "id": "ffc7b12b",
   "metadata": {},
   "source": [
    "## Data Preparation "
   ]
  },
  {
   "cell_type": "markdown",
   "id": "e4b6e2e9",
   "metadata": {},
   "source": [
    "### Importing Libraries & Setting Up Data"
   ]
  },
  {
   "cell_type": "code",
   "execution_count": 34,
   "id": "61e14426",
   "metadata": {},
   "outputs": [],
   "source": [
    "import numpy as np\n",
    "import pandas as pd\n",
    "from pandas import Series, DataFrame\n",
    "import matplotlib.pyplot as plt\n",
    "from matplotlib import rcParams\n",
    "import warnings\n",
    "warnings.filterwarnings(\"ignore\")"
   ]
  },
  {
   "cell_type": "code",
   "execution_count": 4,
   "id": "937707c8",
   "metadata": {},
   "outputs": [
    {
     "data": {
      "text/html": [
       "<div>\n",
       "<style scoped>\n",
       "    .dataframe tbody tr th:only-of-type {\n",
       "        vertical-align: middle;\n",
       "    }\n",
       "\n",
       "    .dataframe tbody tr th {\n",
       "        vertical-align: top;\n",
       "    }\n",
       "\n",
       "    .dataframe thead th {\n",
       "        text-align: right;\n",
       "    }\n",
       "</style>\n",
       "<table border=\"1\" class=\"dataframe\">\n",
       "  <thead>\n",
       "    <tr style=\"text-align: right;\">\n",
       "      <th></th>\n",
       "      <th>region</th>\n",
       "      <th>category</th>\n",
       "      <th>parameter</th>\n",
       "      <th>mode</th>\n",
       "      <th>powertrain</th>\n",
       "      <th>year</th>\n",
       "      <th>unit</th>\n",
       "      <th>value</th>\n",
       "    </tr>\n",
       "  </thead>\n",
       "  <tbody>\n",
       "    <tr>\n",
       "      <th>0</th>\n",
       "      <td>Australia</td>\n",
       "      <td>Historical</td>\n",
       "      <td>EV sales</td>\n",
       "      <td>Cars</td>\n",
       "      <td>BEV</td>\n",
       "      <td>2011</td>\n",
       "      <td>sales</td>\n",
       "      <td>49.00000</td>\n",
       "    </tr>\n",
       "    <tr>\n",
       "      <th>1</th>\n",
       "      <td>Australia</td>\n",
       "      <td>Historical</td>\n",
       "      <td>EV stock</td>\n",
       "      <td>Cars</td>\n",
       "      <td>BEV</td>\n",
       "      <td>2011</td>\n",
       "      <td>stock</td>\n",
       "      <td>49.00000</td>\n",
       "    </tr>\n",
       "    <tr>\n",
       "      <th>2</th>\n",
       "      <td>Australia</td>\n",
       "      <td>Historical</td>\n",
       "      <td>EV stock share</td>\n",
       "      <td>Cars</td>\n",
       "      <td>EV</td>\n",
       "      <td>2011</td>\n",
       "      <td>percent</td>\n",
       "      <td>0.00046</td>\n",
       "    </tr>\n",
       "    <tr>\n",
       "      <th>3</th>\n",
       "      <td>Australia</td>\n",
       "      <td>Historical</td>\n",
       "      <td>EV sales share</td>\n",
       "      <td>Cars</td>\n",
       "      <td>EV</td>\n",
       "      <td>2011</td>\n",
       "      <td>percent</td>\n",
       "      <td>0.00650</td>\n",
       "    </tr>\n",
       "    <tr>\n",
       "      <th>4</th>\n",
       "      <td>Australia</td>\n",
       "      <td>Historical</td>\n",
       "      <td>EV sales share</td>\n",
       "      <td>Cars</td>\n",
       "      <td>EV</td>\n",
       "      <td>2012</td>\n",
       "      <td>percent</td>\n",
       "      <td>0.03000</td>\n",
       "    </tr>\n",
       "  </tbody>\n",
       "</table>\n",
       "</div>"
      ],
      "text/plain": [
       "      region    category       parameter  mode powertrain  year     unit  \\\n",
       "0  Australia  Historical        EV sales  Cars        BEV  2011    sales   \n",
       "1  Australia  Historical        EV stock  Cars        BEV  2011    stock   \n",
       "2  Australia  Historical  EV stock share  Cars         EV  2011  percent   \n",
       "3  Australia  Historical  EV sales share  Cars         EV  2011  percent   \n",
       "4  Australia  Historical  EV sales share  Cars         EV  2012  percent   \n",
       "\n",
       "      value  \n",
       "0  49.00000  \n",
       "1  49.00000  \n",
       "2   0.00046  \n",
       "3   0.00650  \n",
       "4   0.03000  "
      ]
     },
     "execution_count": 4,
     "metadata": {},
     "output_type": "execute_result"
    }
   ],
   "source": [
    "address = 'C:/Users/west5/OneDrive - Deakin University/Desktop/Git_Repositories_Working/EVCFLO/Data Science - EV Stations/Data/IEA-EV-data.csv'\n",
    "\n",
    "ev = pd.read_csv(address)\n",
    "\n",
    "ev.columns = ['region', 'category', 'parameter', 'mode', 'powertrain', 'year', 'unit', 'value']\n",
    "ev.head()"
   ]
  },
  {
   "cell_type": "markdown",
   "id": "c2e4e7ca",
   "metadata": {},
   "source": [
    "### Treating Duplicates & Missing Values"
   ]
  },
  {
   "cell_type": "code",
   "execution_count": 22,
   "id": "5e1cd931",
   "metadata": {},
   "outputs": [
    {
     "name": "stdout",
     "output_type": "stream",
     "text": [
      "Missing Values by Attribute:\n",
      "region        0\n",
      "category      0\n",
      "parameter     0\n",
      "mode          0\n",
      "powertrain    0\n",
      "year          0\n",
      "unit          0\n",
      "value         0\n",
      "dtype: int64\n",
      "\n",
      "Shape before filtering missing values: (7434, 8)\n",
      "Shape after filtering missing values by row: (7434, 8)\n",
      "Shape after filtering missing values by column: (7434, 8)\n"
     ]
    }
   ],
   "source": [
    "# Count Missing Values\n",
    "print('Missing Values by Attribute:')\n",
    "print(ev.isnull().sum())\n",
    "\n",
    "# Filter Out Missing Values\n",
    "ev_no_nan = ev.dropna(axis=0)\n",
    "ev_no_nan2 = ev.dropna(axis=1)\n",
    "print('\\nShape before filtering missing values: ' + str(ev.shape))\n",
    "print('Shape after filtering missing values by row: ' + str(ev_no_nan.shape))\n",
    "print('Shape after filtering missing values by column: ' + str(ev_no_nan2.shape))"
   ]
  },
  {
   "cell_type": "markdown",
   "id": "1f52042f",
   "metadata": {},
   "source": [
    "There are no missing values in the dataframe by either row or column. Therefore the shape before and after filtering is the same. No missing data is detected. "
   ]
  },
  {
   "cell_type": "code",
   "execution_count": 29,
   "id": "adddb963",
   "metadata": {},
   "outputs": [
    {
     "name": "stdout",
     "output_type": "stream",
     "text": [
      "Number of duplicated data values: 0\n",
      "Shape before dropping duplicates: (7434, 8)\n",
      "Shape after dropping duplicates: (7434, 8)\n"
     ]
    }
   ],
   "source": [
    "# Counting and dropping duplicated Data Values\n",
    "counted = ev.duplicated().sum()\n",
    "print('Number of duplicated data values: ' + str(counted))\n",
    "print('Shape before dropping duplicates: ' + str(ev.shape))\n",
    "ev2 = ev.drop_duplicates()\n",
    "print('Shape after dropping duplicates: ' + str(ev2.shape))"
   ]
  },
  {
   "cell_type": "markdown",
   "id": "57222dab",
   "metadata": {},
   "source": [
    "There are no duplicated rows detected in the data frame. As such the shape is the before and after dropping duplicates. "
   ]
  },
  {
   "cell_type": "markdown",
   "id": "cc306f71",
   "metadata": {},
   "source": [
    "### Sorting, Selecting & Grouping Data "
   ]
  },
  {
   "cell_type": "code",
   "execution_count": 59,
   "id": "7d8de273",
   "metadata": {},
   "outputs": [
    {
     "data": {
      "text/html": [
       "<div>\n",
       "<style scoped>\n",
       "    .dataframe tbody tr th:only-of-type {\n",
       "        vertical-align: middle;\n",
       "    }\n",
       "\n",
       "    .dataframe tbody tr th {\n",
       "        vertical-align: top;\n",
       "    }\n",
       "\n",
       "    .dataframe thead th {\n",
       "        text-align: right;\n",
       "    }\n",
       "</style>\n",
       "<table border=\"1\" class=\"dataframe\">\n",
       "  <thead>\n",
       "    <tr style=\"text-align: right;\">\n",
       "      <th></th>\n",
       "      <th>region</th>\n",
       "      <th>category</th>\n",
       "      <th>parameter</th>\n",
       "      <th>mode</th>\n",
       "      <th>powertrain</th>\n",
       "      <th>year</th>\n",
       "      <th>unit</th>\n",
       "      <th>value</th>\n",
       "    </tr>\n",
       "  </thead>\n",
       "  <tbody>\n",
       "    <tr>\n",
       "      <th>0</th>\n",
       "      <td>Australia</td>\n",
       "      <td>Historical</td>\n",
       "      <td>EV sales</td>\n",
       "      <td>Cars</td>\n",
       "      <td>BEV</td>\n",
       "      <td>2011</td>\n",
       "      <td>sales</td>\n",
       "      <td>49.00000</td>\n",
       "    </tr>\n",
       "    <tr>\n",
       "      <th>1</th>\n",
       "      <td>Australia</td>\n",
       "      <td>Historical</td>\n",
       "      <td>EV stock</td>\n",
       "      <td>Cars</td>\n",
       "      <td>BEV</td>\n",
       "      <td>2011</td>\n",
       "      <td>stock</td>\n",
       "      <td>49.00000</td>\n",
       "    </tr>\n",
       "    <tr>\n",
       "      <th>2</th>\n",
       "      <td>Australia</td>\n",
       "      <td>Historical</td>\n",
       "      <td>EV stock share</td>\n",
       "      <td>Cars</td>\n",
       "      <td>EV</td>\n",
       "      <td>2011</td>\n",
       "      <td>percent</td>\n",
       "      <td>0.00046</td>\n",
       "    </tr>\n",
       "    <tr>\n",
       "      <th>3</th>\n",
       "      <td>Australia</td>\n",
       "      <td>Historical</td>\n",
       "      <td>EV sales share</td>\n",
       "      <td>Cars</td>\n",
       "      <td>EV</td>\n",
       "      <td>2011</td>\n",
       "      <td>percent</td>\n",
       "      <td>0.00650</td>\n",
       "    </tr>\n",
       "    <tr>\n",
       "      <th>4</th>\n",
       "      <td>Australia</td>\n",
       "      <td>Historical</td>\n",
       "      <td>EV sales share</td>\n",
       "      <td>Cars</td>\n",
       "      <td>EV</td>\n",
       "      <td>2012</td>\n",
       "      <td>percent</td>\n",
       "      <td>0.03000</td>\n",
       "    </tr>\n",
       "  </tbody>\n",
       "</table>\n",
       "</div>"
      ],
      "text/plain": [
       "      region    category       parameter  mode powertrain  year     unit  \\\n",
       "0  Australia  Historical        EV sales  Cars        BEV  2011    sales   \n",
       "1  Australia  Historical        EV stock  Cars        BEV  2011    stock   \n",
       "2  Australia  Historical  EV stock share  Cars         EV  2011  percent   \n",
       "3  Australia  Historical  EV sales share  Cars         EV  2011  percent   \n",
       "4  Australia  Historical  EV sales share  Cars         EV  2012  percent   \n",
       "\n",
       "      value  \n",
       "0  49.00000  \n",
       "1  49.00000  \n",
       "2   0.00046  \n",
       "3   0.00650  \n",
       "4   0.03000  "
      ]
     },
     "execution_count": 59,
     "metadata": {},
     "output_type": "execute_result"
    }
   ],
   "source": [
    "ev.head()"
   ]
  },
  {
   "cell_type": "code",
   "execution_count": 86,
   "id": "72b9fca2",
   "metadata": {},
   "outputs": [
    {
     "name": "stdout",
     "output_type": "stream",
     "text": [
      "5 largest regions:\n",
      "World                763\n",
      "China                751\n",
      "Europe               584\n",
      "Rest of the world    451\n",
      "USA                  343\n",
      "Name: region, dtype: int64\n",
      "\n",
      "Value Counts by Category:\n",
      "Historical          5686\n",
      "Projection-APS       874\n",
      "Projection-STEPS     874\n",
      "Name: category, dtype: int64\n",
      "\n",
      "Value Counts by Parameter:\n",
      "EV stock                 1723\n",
      "EV sales                 1609\n",
      "EV stock share           1096\n",
      "EV sales share           1059\n",
      "EV charging points        623\n",
      "Electricity demand        576\n",
      "Oil displacement Mbd      374\n",
      "Oil displacement Mlge     374\n",
      "Name: parameter, dtype: int64\n",
      "\n",
      "Value Counts by mode:\n",
      "Cars         2684\n",
      "Vans         1625\n",
      "Buses        1436\n",
      "Trucks       1058\n",
      "EV            623\n",
      "SSPACEHHP       8\n",
      "Name: mode, dtype: int64\n",
      "\n",
      "Value Counts by PowerTrain:\n",
      "EV                         2903\n",
      "BEV                        2373\n",
      "PHEV                       1535\n",
      "Publicly available slow     313\n",
      "Publicly available fast     310\n",
      "Name: powertrain, dtype: int64\n",
      "\n",
      "Value Counts by Year:\n",
      "2020    998\n",
      "2021    993\n",
      "2019    606\n",
      "2018    562\n",
      "2017    538\n",
      "2016    510\n",
      "2025    508\n",
      "2030    508\n",
      "2015    466\n",
      "2014    409\n",
      "2013    389\n",
      "2012    374\n",
      "2011    325\n",
      "2010    248\n",
      "Name: year, dtype: int64\n",
      "\n",
      "Value Counts by Unit:\n",
      "percent                              2155\n",
      "stock                                1723\n",
      "sales                                1609\n",
      "charging points                       623\n",
      "GWh                                   576\n",
      "Milion barrels per day                374\n",
      "Milion litres gasoline equivalent     374\n",
      "Name: unit, dtype: int64\n",
      "\n"
     ]
    }
   ],
   "source": [
    "# Displaying Value Counts Per Attribute\n",
    "with pd.option_context('display.max_rows', None,):\n",
    "    print('5 largest regions:')\n",
    "    print(ev['region'].value_counts().nlargest(5))\n",
    "    print()\n",
    "\n",
    "with pd.option_context('display.max_rows', None,):\n",
    "    print('Value Counts by Category:')\n",
    "    print(ev['category'].value_counts())\n",
    "    print()    \n",
    "\n",
    "with pd.option_context('display.max_rows', None,):\n",
    "    print('Value Counts by Parameter:')\n",
    "    print(ev['parameter'].value_counts())\n",
    "    print()\n",
    "with pd.option_context('display.max_rows', None,):\n",
    "    print('Value Counts by mode:')\n",
    "    print(ev['mode'].value_counts())\n",
    "    print()\n",
    "with pd.option_context('display.max_rows', None,):\n",
    "    print('Value Counts by PowerTrain:')\n",
    "    print(ev['powertrain'].value_counts())\n",
    "    print()\n",
    "with pd.option_context('display.max_rows', None,):\n",
    "    print('Value Counts by Year:')\n",
    "    print(ev['year'].value_counts())\n",
    "    print()\n",
    "with pd.option_context('display.max_rows', None,):\n",
    "    print('Value Counts by Unit:')\n",
    "    print(ev['unit'].value_counts())\n",
    "    print()"
   ]
  },
  {
   "cell_type": "markdown",
   "id": "76b99428",
   "metadata": {},
   "source": [
    "From looking at the above information from the value counts, we can accertain the target row attributes and useful information. The largest regions for EV sales are China, USA and Europe. In terms of the parameter EV Stock, sales and charging points are of interest. EV charging points should be focused on. Unit should focus on the charging points, sales and stock. Most recent historical data comes from the end of 2021 since this report was published in May 2022.  "
   ]
  },
  {
   "cell_type": "markdown",
   "id": "f7f7fd64",
   "metadata": {},
   "source": [
    "### Group Data for Insights"
   ]
  },
  {
   "cell_type": "code",
   "execution_count": null,
   "id": "8fb3b71a",
   "metadata": {},
   "outputs": [],
   "source": [
    "# Sorting & Grouping Data\n",
    "# ev_sorted = ev.sort_values(by=(5), ascending=[False])\n",
    "# DF_sorted\n",
    "\n",
    "# Group Data by Region\n",
    "ev_region = ev.groupby(['region', 'category'])['category'].count()\n",
    "print(ev_region)\n",
    "\n",
    "# Group Data by Region\n",
    "ev2 = ev.groupby(['region', 'parameter', 'mode'])['category'].count()\n",
    "print(ev2)\n",
    "\n",
    "# # Groupby multiple columns and aggregate()\n",
    "# result = ev_groups.groupby(['Courses','Fee'])['Duration'].aggregate('count')\n",
    "# print(result)"
   ]
  },
  {
   "cell_type": "code",
   "execution_count": 118,
   "id": "800c96de",
   "metadata": {},
   "outputs": [
    {
     "name": "stdout",
     "output_type": "stream",
     "text": [
      "Shape of new data frame: (86, 8)\n",
      "\n",
      "Regions with most EV Charging points in 2021:\n"
     ]
    },
    {
     "data": {
      "text/plain": [
       "China     6\n",
       "USA       6\n",
       "India     6\n",
       "World     6\n",
       "Europe    4\n",
       "Name: region, dtype: int64"
      ]
     },
     "execution_count": 118,
     "metadata": {},
     "output_type": "execute_result"
    }
   ],
   "source": [
    "# Select data by charging points in 2021\n",
    "ev2 = ev[(ev['parameter'] == 'EV charging points') & (ev['year'] == 2021)]\n",
    "print('Shape of new data frame: ' + str(ev2.shape))\n",
    "ev2.head(50)\n",
    "\n",
    "print('\\nRegions with most EV Charging points in 2021:')\n",
    "ev2['region'].value_counts().nlargest(5)\n",
    "# ev2['year'].value_counts()"
   ]
  },
  {
   "cell_type": "code",
   "execution_count": 129,
   "id": "b79ed0de",
   "metadata": {},
   "outputs": [
    {
     "name": "stdout",
     "output_type": "stream",
     "text": [
      "         region          category              parameter   mode  \\\n",
      "7433      World  Projection-STEPS  Oil displacement Mlge   Cars   \n",
      "6921      World        Historical               EV sales  Buses   \n",
      "6930      World        Historical               EV stock  Buses   \n",
      "6929      World        Historical               EV stock  Buses   \n",
      "6928      World        Historical               EV sales   Cars   \n",
      "...         ...               ...                    ...    ...   \n",
      "51    Australia        Historical               EV sales   Cars   \n",
      "52    Australia        Historical               EV sales   Cars   \n",
      "53    Australia        Historical               EV stock   Cars   \n",
      "54    Australia        Historical     EV charging points     EV   \n",
      "0     Australia        Historical               EV sales   Cars   \n",
      "\n",
      "                   powertrain  year                               unit  \\\n",
      "7433                       EV  2030  Milion litres gasoline equivalent   \n",
      "6921                      BEV  2017                              sales   \n",
      "6930                     PHEV  2017                              stock   \n",
      "6929                      BEV  2017                              stock   \n",
      "6928                     PHEV  2017                              sales   \n",
      "...                       ...   ...                                ...   \n",
      "51                        BEV  2019                              sales   \n",
      "52                       PHEV  2019                              sales   \n",
      "53                        BEV  2019                              stock   \n",
      "54    Publicly available fast  2019                    charging points   \n",
      "0                         BEV  2011                              sales   \n",
      "\n",
      "         value  \n",
      "7433  140000.0  \n",
      "6921  120000.0  \n",
      "6930   63000.0  \n",
      "6929  280000.0  \n",
      "6928  420000.0  \n",
      "...        ...  \n",
      "51      6300.0  \n",
      "52      2900.0  \n",
      "53     12000.0  \n",
      "54       250.0  \n",
      "0         49.0  \n",
      "\n",
      "[7434 rows x 8 columns]\n",
      "region     unit                             \n",
      "Australia  charging points                       10\n",
      "           percent                               22\n",
      "           sales                                 21\n",
      "           stock                                 21\n",
      "Belgium    charging points                       18\n",
      "                                               ... \n",
      "World      Milion litres gasoline equivalent     80\n",
      "           charging points                       40\n",
      "           percent                              136\n",
      "           sales                                151\n",
      "           stock                                152\n",
      "Name: region, Length: 148, dtype: int64\n",
      "region     parameter              mode  \n",
      "Australia  EV charging points     EV        10\n",
      "           EV sales               Cars      21\n",
      "           EV sales share         Cars      11\n",
      "           EV stock               Cars      21\n",
      "           EV stock share         Cars      11\n",
      "                                            ..\n",
      "World      Oil displacement Mbd   Vans      20\n",
      "           Oil displacement Mlge  Buses     20\n",
      "                                  Cars      20\n",
      "                                  Trucks    20\n",
      "                                  Vans      20\n",
      "Name: category, Length: 546, dtype: int64\n"
     ]
    }
   ],
   "source": [
    "# Sorting & Grouping Data\n",
    "ev_sorted = ev.sort_values(by=('region'), ascending=[False])\n",
    "print(ev_sorted)\n",
    "\n",
    "# Group Data by Region\n",
    "ev_region = ev.groupby(['region', 'unit'])['region'].count()\n",
    "print(ev_region)\n",
    "\n",
    "# Group Data by Region\n",
    "ev2 = ev.groupby(['region', 'parameter', 'mode'])['category'].count()\n",
    "print(ev2)\n",
    "\n",
    "# # Groupby multiple columns and aggregate()\n",
    "# result = ev_groups.groupby(['Courses','Fee'])['Duration'].aggregate('count')\n",
    "# print(result)\n",
    "\n",
    "# ev_groups.mean()"
   ]
  },
  {
   "cell_type": "code",
   "execution_count": null,
   "id": "3901b7c9",
   "metadata": {},
   "outputs": [],
   "source": []
  },
  {
   "cell_type": "code",
   "execution_count": null,
   "id": "14f1cfa4",
   "metadata": {},
   "outputs": [],
   "source": []
  },
  {
   "cell_type": "code",
   "execution_count": null,
   "id": "8273b47c",
   "metadata": {},
   "outputs": [],
   "source": []
  }
 ],
 "metadata": {
  "kernelspec": {
   "display_name": "Python 3",
   "language": "python",
   "name": "python3"
  },
  "language_info": {
   "codemirror_mode": {
    "name": "ipython",
    "version": 3
   },
   "file_extension": ".py",
   "mimetype": "text/x-python",
   "name": "python",
   "nbconvert_exporter": "python",
   "pygments_lexer": "ipython3",
   "version": "3.8.8"
  }
 },
 "nbformat": 4,
 "nbformat_minor": 5
}
