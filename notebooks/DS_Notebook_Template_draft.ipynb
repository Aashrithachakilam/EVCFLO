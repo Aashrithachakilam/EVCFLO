{
  "cells": [
    {
      "cell_type": "markdown",
      "source": [
        "The purpose of this template is to provide a format template that the data science team can refer to. Ensure that the team notebook format is consistent. It will facilitate future project website construction."
      ],
      "metadata": {
        "id": "IwzecC2xUYA8"
      }
    },
    {
      "cell_type": "code",
      "execution_count": null,
      "metadata": {
        "id": "ZEUYzMccThWR"
      },
      "outputs": [],
      "source": [
        "\n",
        "# The web team is setting up the project web page and format.\n",
        "# Hope that the web team can add a css format here to provide a format\n",
        "# that can be run locally for the opening title of this template,\n",
        "# so that the data team can run it locally and preview it before publishing.\n"
      ]
    },
    {
      "cell_type": "markdown",
      "metadata": {
        "id": "ZBrJWl7FThWP"
      },
      "source": [
        "<b>Warning: Please delete this warning and everything above before pulling to the master branch.<b/>"
      ]
    },
    {
      "cell_type": "markdown",
      "metadata": {
        "id": "9nAVzW2_ThWS"
      },
      "source": [
        "# Title\n",
        "\n",
        "**Author(s)**: [Name of the Author(s)]  \n",
        "**Date**: [Date of Analysis]  \n",
        "**Tips and Disclaimers**: This analysis may contain time-sensitive information. Data from third parties and the accuracy of the data cannot be guaranteed.\n"
      ]
    },
    {
      "cell_type": "markdown",
      "metadata": {
        "id": "MigW8BqRThWT"
      },
      "source": [
        "## Analysis Objectives\n",
        "\n",
        "**Overview**: Here, we delineate the driving questions behind this investigation.\n",
        "\n",
        "**Note**: What are the key questions you want this analysis to answer?\n"
      ]
    },
    {
      "cell_type": "markdown",
      "metadata": {
        "id": "Q6iieZmKThWT"
      },
      "source": [
        "## Deliverables\n",
        "\n",
        "**Overview**: This area serves as a blueprint for the outcomes we expect—whether those are visual representations, tables, or insights.\n",
        "\n",
        "**Note**: What should the reader expect to obtain from this analysis?\n"
      ]
    },
    {
      "cell_type": "markdown",
      "metadata": {
        "id": "gpYpBLAUThWT"
      },
      "source": [
        "## Data References\n",
        "\n",
        "**Overview**: Attribution for all data sets used in this study can be found here.\n",
        "\n",
        "**Note**: It's important to acknowledge the creators of your data.\n"
      ]
    },
    {
      "cell_type": "markdown",
      "metadata": {
        "id": "9LDfBgtNThWU"
      },
      "source": [
        "## Data Acquisition\n",
        "\n",
        "**Overview**: This section encapsulates the code and logic needed to fetch and prepare the data.\n",
        "\n",
        "**Note**: Make sure to describe any transformations or cleaning steps. When working with data. Hopefully you've pulled the data to the master branch. Then use github's permanent file connection to read. This ensures the reproducibility of this analysis. Can be repeated by any reader.  When a new team starts organizing historical data, don’t forget to set up a file path for change history analysis.\n"
      ]
    },
    {
      "cell_type": "markdown",
      "metadata": {
        "id": "jkl8BeBqThWU"
      },
      "source": [
        "# Reference\n",
        "\n",
        "**Overview**: Citations aren't just academic formalities; they're a critical part of responsible data science.\n",
        "\n",
        "**Note**: Use this section to explain the need for proper citations and to list them. It is currently recommended to use Harvard mode. For other citation formats, such as BibTeX, it needs to be discussed by the team leader and the participation of the web team. You can use online tools such as citethisforme to create citations, but please fill in the data accurately. And double check with [Deakin guide to referencing](https://www.deakin.edu.au/students/study-support/study-resources/referencing)\n"
      ]
    },
    {
      "cell_type": "markdown",
      "metadata": {
        "id": "J3yIrPvwThWU"
      },
      "source": [
        "\n",
        "<style>\n",
        "/* Title and Author styling: You can change the background and text colors here */\n",
        ".analysis-title, .analysis-authors {\n",
        "    background-color: #4CB166;  /* Primary background color */\n",
        "    color: #F7F7FF;  /* Text color */\n",
        "}\n",
        "\n",
        "/* Duration and Skill level styling */\n",
        ".analysis-duration, .analysis-level, .analysis-skill {\n",
        "    background-color: #070600;  /* Secondary background color */\n",
        "    color: #F7F7FF;  /* Text color */\n",
        "}\n",
        "\n",
        "/* Section Headers: Change font-size and background color as needed */\n",
        ".analysis-section-header {\n",
        "    font-size: 1.5em;\n",
        "    background-color: #4CB166;  /* Primary background color */\n",
        "    color: #F7F7FF;  /* Text color */\n",
        "}\n",
        "</style>\n"
      ]
    }
  ],
  "metadata": {
    "custom_styles": {
      "colors": {
        "background": "#F7F7FF",
        "primary": "#4CB166",
        "secondary": "#070600"
      }
    },
    "kernelspec": {
      "display_name": "Python 3 (ipykernel)",
      "language": "python",
      "name": "python3"
    },
    "language_info": {
      "codemirror_mode": {
        "name": "ipython",
        "version": 3
      },
      "file_extension": ".py",
      "mimetype": "text/x-python",
      "name": "python",
      "nbconvert_exporter": "python",
      "pygments_lexer": "ipython3",
      "version": "3.9.17"
    },
    "vscode": {
      "interpreter": {
        "hash": "369f2c481f4da34e4445cda3fffd2e751bd1c4d706f27375911949ba6bb62e1c"
      }
    },
    "colab": {
      "provenance": []
    }
  },
  "nbformat": 4,
  "nbformat_minor": 0
}