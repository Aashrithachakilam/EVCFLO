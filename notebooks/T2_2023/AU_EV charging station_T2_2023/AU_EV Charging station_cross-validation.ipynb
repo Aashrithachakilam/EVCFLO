{
 "cells": [
  {
   "cell_type": "code",
   "execution_count": 2,
   "id": "d85ebf9c",
   "metadata": {},
   "outputs": [],
   "source": [
    "from sklearn.model_selection import train_test_split, cross_val_score\n",
    "from sklearn.ensemble import RandomForestRegressor\n",
    "from sklearn.metrics import mean_squared_error, r2_score\n",
    "import numpy as np\n",
    "import pandas as pd\n",
    "\n",
    "\n",
    "# Read the CSV file\n",
    "df = pd.read_csv('/New_Australian_EV_Charging_Stations.csv')\n"
   ]
  },
  {
   "cell_type": "markdown",
   "id": "4c09e545",
   "metadata": {},
   "source": [
    "## 1:Plugs_Type2"
   ]
  },
  {
   "cell_type": "code",
   "execution_count": null,
   "id": "9c38b247",
   "metadata": {},
   "outputs": [],
   "source": [
    "X = df[['Power 1','charging_stations', 'Nearby EVStations', 'Hospitals', 'Parks', 'Restaurants', 'Malls', 'Supermarkets']]\n",
    "y = df['Plugs_Type2']\n",
    "\n",
    "# Create a Random Forest Regressor model\n",
    "rf_model = RandomForestRegressor(n_estimators=100, random_state=42)\n",
    "\n",
    "# Perform 10-fold cross-validation\n",
    "cv_scores = cross_val_score(rf_model, X, y, cv=10, scoring='r2')\n",
    "\n",
    "# Output the individual cross-validation scores\n",
    "print(f\"R-squared scores for the individual folds: {cv_scores}\")\n",
    "\n",
    "# Output the mean and standard deviation of the cross-validation scores\n",
    "print(f\"Mean R-squared: {np.mean(cv_scores):.2f}\")\n",
    "print(f\"Standard Deviation: {np.std(cv_scores):.2f}\")\n",
    "\n",
    "# Fitting the model on the entire dataset\n",
    "rf_model.fit(X, y)\n",
    "\n",
    "# Features importances can also be viewed\n",
    "print(\"Feature Importances:\", rf_model.feature_importances_)\n"
   ]
  },
  {
   "cell_type": "markdown",
   "id": "29f6a9e3",
   "metadata": {},
   "source": [
    "## 2:Plugs_Three_Phase"
   ]
  },
  {
   "cell_type": "code",
   "execution_count": 4,
   "id": "e2388652",
   "metadata": {},
   "outputs": [
    {
     "name": "stdout",
     "output_type": "stream",
     "text": [
      "R-squared scores for the individual folds: [-0.13716923  0.16317485  0.          0.         -0.13696084 -0.05394421\n",
      "  0.         -0.07240695  0.         -0.20010389]\n",
      "Mean R-squared: -0.04\n",
      "Standard Deviation: 0.10\n",
      "Feature Importances: [0.43059513 0.12175547 0.05565847 0.03523246 0.12448814 0.04977755\n",
      " 0.072773   0.10971979]\n"
     ]
    }
   ],
   "source": [
    "\n",
    "X = df[['Power 1','charging_stations', 'Nearby EVStations', 'Hospitals', 'Parks', 'Restaurants', 'Malls', 'Supermarkets']]\n",
    "y = df['Plugs_Three_Phase']\n",
    "\n",
    "# Create a Random Forest Regressor model\n",
    "rf_model = RandomForestRegressor(n_estimators=100, random_state=42)\n",
    "\n",
    "# Perform 10-fold cross-validation\n",
    "cv_scores = cross_val_score(rf_model, X, y, cv=10, scoring='r2')\n",
    "\n",
    "# Output the individual cross-validation scores\n",
    "print(f\"R-squared scores for the individual folds: {cv_scores}\")\n",
    "\n",
    "# Output the mean and standard deviation of the cross-validation scores\n",
    "print(f\"Mean R-squared: {np.mean(cv_scores):.2f}\")\n",
    "print(f\"Standard Deviation: {np.std(cv_scores):.2f}\")\n",
    "\n",
    "# Fitting the model on the entire dataset\n",
    "rf_model.fit(X, y)\n",
    "\n",
    "# Features importances can also be viewed\n",
    "print(\"Feature Importances:\", rf_model.feature_importances_)\n"
   ]
  },
  {
   "cell_type": "markdown",
   "id": "f1738708",
   "metadata": {},
   "source": [
    "## 3:Plugs_CHAdeMO"
   ]
  },
  {
   "cell_type": "code",
   "execution_count": 6,
   "id": "e5dd044a",
   "metadata": {},
   "outputs": [
    {
     "name": "stdout",
     "output_type": "stream",
     "text": [
      "R-squared scores for the individual folds: [0.94673443 0.82091656 0.86345178 0.91857194 0.78395831 0.92838315\n",
      " 0.85534507 0.50517514 0.70977875 0.66238346]\n",
      "Mean R-squared: 0.80\n",
      "Standard Deviation: 0.13\n",
      "Feature Importances: [0.57381016 0.31001558 0.04290775 0.0060002  0.03881338 0.00605528\n",
      " 0.01015532 0.01224232]\n"
     ]
    }
   ],
   "source": [
    "\n",
    "X = df[['Power 1','charging_stations', 'Nearby EVStations', 'Hospitals', 'Parks', 'Restaurants', 'Malls', 'Supermarkets']]\n",
    "y = df['Plugs_CHAdeMO']\n",
    "\n",
    "# Create a Random Forest Regressor model\n",
    "rf_model = RandomForestRegressor(n_estimators=100, random_state=42)\n",
    "\n",
    "# Perform 10-fold cross-validation\n",
    "cv_scores = cross_val_score(rf_model, X, y, cv=10, scoring='r2')\n",
    "\n",
    "# Output the individual cross-validation scores\n",
    "print(f\"R-squared scores for the individual folds: {cv_scores}\")\n",
    "\n",
    "# Output the mean and standard deviation of the cross-validation scores\n",
    "print(f\"Mean R-squared: {np.mean(cv_scores):.2f}\")\n",
    "print(f\"Standard Deviation: {np.std(cv_scores):.2f}\")\n",
    "\n",
    "# Fitting the model on the entire dataset\n",
    "rf_model.fit(X, y)\n",
    "\n",
    "# Features importances can also be viewed\n",
    "print(\"Feature Importances:\", rf_model.feature_importances_)"
   ]
  },
  {
   "cell_type": "markdown",
   "id": "ccfb16cf",
   "metadata": {},
   "source": [
    "## 4:Plugs_CCS/SAE"
   ]
  },
  {
   "cell_type": "code",
   "execution_count": 7,
   "id": "8d2e9b68",
   "metadata": {},
   "outputs": [
    {
     "name": "stdout",
     "output_type": "stream",
     "text": [
      "R-squared scores for the individual folds: [0.95741199 0.91041026 0.83747449 0.78365934 0.79468598 0.9386103\n",
      " 0.85933031 0.85161677 0.69786915 0.91126683]\n",
      "Mean R-squared: 0.85\n",
      "Standard Deviation: 0.08\n",
      "Feature Importances: [0.53953567 0.36804822 0.03544778 0.00743591 0.03032219 0.00333691\n",
      " 0.00869599 0.00717731]\n"
     ]
    }
   ],
   "source": [
    "\n",
    "X = df[['Power 1','charging_stations', 'Nearby EVStations', 'Hospitals', 'Parks', 'Restaurants', 'Malls', 'Supermarkets']]\n",
    "y = df['Plugs_CCS/SAE']\n",
    "\n",
    "# Create a Random Forest Regressor model\n",
    "rf_model = RandomForestRegressor(n_estimators=100, random_state=42)\n",
    "\n",
    "# Perform 10-fold cross-validation\n",
    "cv_scores = cross_val_score(rf_model, X, y, cv=10, scoring='r2')\n",
    "\n",
    "# Output the individual cross-validation scores\n",
    "print(f\"R-squared scores for the individual folds: {cv_scores}\")\n",
    "\n",
    "# Output the mean and standard deviation of the cross-validation scores\n",
    "print(f\"Mean R-squared: {np.mean(cv_scores):.2f}\")\n",
    "print(f\"Standard Deviation: {np.std(cv_scores):.2f}\")\n",
    "\n",
    "# Fitting the model on the entire dataset\n",
    "rf_model.fit(X, y)\n",
    "\n",
    "# Features importances can also be viewed\n",
    "print(\"Feature Importances:\", rf_model.feature_importances_)"
   ]
  },
  {
   "cell_type": "markdown",
   "id": "c0fd32a0",
   "metadata": {},
   "source": [
    "## 5.Plugs_Tesla"
   ]
  },
  {
   "cell_type": "code",
   "execution_count": 8,
   "id": "6ac863c4",
   "metadata": {},
   "outputs": [
    {
     "name": "stdout",
     "output_type": "stream",
     "text": [
      "R-squared scores for the individual folds: [ 0.74149754  0.78846968  0.52985277  0.76140241  0.78336793  0.58966251\n",
      " -0.27689065  0.76193441  0.348646    0.62751056]\n",
      "Mean R-squared: 0.57\n",
      "Standard Deviation: 0.31\n",
      "Feature Importances: [0.54945867 0.15450095 0.04046416 0.03223281 0.07746634 0.02651108\n",
      " 0.04748713 0.07187886]\n"
     ]
    }
   ],
   "source": [
    "X = df[['Power 1','charging_stations', 'Nearby EVStations', 'Hospitals', 'Parks', 'Restaurants', 'Malls', 'Supermarkets']]\n",
    "y = df['Plugs_Tesla']\n",
    "\n",
    "# Create a Random Forest Regressor model\n",
    "rf_model = RandomForestRegressor(n_estimators=100, random_state=42)\n",
    "\n",
    "# Perform 10-fold cross-validation\n",
    "cv_scores = cross_val_score(rf_model, X, y, cv=10, scoring='r2')\n",
    "\n",
    "# Output the individual cross-validation scores\n",
    "print(f\"R-squared scores for the individual folds: {cv_scores}\")\n",
    "\n",
    "# Output the mean and standard deviation of the cross-validation scores\n",
    "print(f\"Mean R-squared: {np.mean(cv_scores):.2f}\")\n",
    "print(f\"Standard Deviation: {np.std(cv_scores):.2f}\")\n",
    "\n",
    "# Fitting the model on the entire dataset\n",
    "rf_model.fit(X, y)\n",
    "\n",
    "# Features importances can also be viewed\n",
    "print(\"Feature Importances:\", rf_model.feature_importances_)"
   ]
  },
  {
   "cell_type": "markdown",
   "id": "164114a5",
   "metadata": {},
   "source": [
    "## 6:Plugs_J-1772"
   ]
  },
  {
   "cell_type": "code",
   "execution_count": 10,
   "id": "b7425105",
   "metadata": {},
   "outputs": [
    {
     "name": "stdout",
     "output_type": "stream",
     "text": [
      "R-squared scores for the individual folds: [0.28698704 0.22481654 0.72882984 0.78225141 0.52953351 0.04489696\n",
      " 0.0456607  0.11322303 0.00798519 0.8308085 ]\n",
      "Mean R-squared: 0.36\n",
      "Standard Deviation: 0.31\n",
      "Feature Importances: [0.55073353 0.0679945  0.0373587  0.04730859 0.05648092 0.01502347\n",
      " 0.07225599 0.15284429]\n"
     ]
    }
   ],
   "source": [
    "X = df[['Power 1','charging_stations', 'Nearby EVStations', 'Hospitals', 'Parks', 'Restaurants', 'Malls', 'Supermarkets']]\n",
    "y = df['Plugs_J-1772']\n",
    "\n",
    "# Create a Random Forest Regressor model\n",
    "rf_model = RandomForestRegressor(n_estimators=100, random_state=42)\n",
    "\n",
    "# Perform 10-fold cross-validation\n",
    "cv_scores = cross_val_score(rf_model, X, y, cv=10, scoring='r2')\n",
    "\n",
    "# Output the individual cross-validation scores\n",
    "print(f\"R-squared scores for the individual folds: {cv_scores}\")\n",
    "\n",
    "# Output the mean and standard deviation of the cross-validation scores\n",
    "print(f\"Mean R-squared: {np.mean(cv_scores):.2f}\")\n",
    "print(f\"Standard Deviation: {np.std(cv_scores):.2f}\")\n",
    "\n",
    "# Fitting the model on the entire dataset\n",
    "rf_model.fit(X, y)\n",
    "\n",
    "# Features importances can also be viewed\n",
    "print(\"Feature Importances:\", rf_model.feature_importances_)"
   ]
  },
  {
   "cell_type": "markdown",
   "id": "1b128644",
   "metadata": {},
   "source": [
    "## 7:Plugs_Caravan_Mains_Socket"
   ]
  },
  {
   "cell_type": "code",
   "execution_count": 11,
   "id": "f97aa5ad",
   "metadata": {},
   "outputs": [
    {
     "name": "stdout",
     "output_type": "stream",
     "text": [
      "R-squared scores for the individual folds: [ 0.          0.          0.          0.          0.          0.\n",
      "  0.          0.         -0.02631579  0.        ]\n",
      "Mean R-squared: -0.00\n",
      "Standard Deviation: 0.01\n",
      "Feature Importances: [0.41869143 0.04651702 0.02423917 0.         0.09919188 0.15323985\n",
      " 0.09020025 0.16792041]\n"
     ]
    }
   ],
   "source": [
    "X = df[['Power 1','charging_stations', 'Nearby EVStations', 'Hospitals', 'Parks', 'Restaurants', 'Malls', 'Supermarkets']]\n",
    "y = df['Plugs_Caravan_Mains_Socket']\n",
    "\n",
    "# Create a Random Forest Regressor model\n",
    "rf_model = RandomForestRegressor(n_estimators=100, random_state=42)\n",
    "\n",
    "# Perform 10-fold cross-validation\n",
    "cv_scores = cross_val_score(rf_model, X, y, cv=10, scoring='r2')\n",
    "\n",
    "# Output the individual cross-validation scores\n",
    "print(f\"R-squared scores for the individual folds: {cv_scores}\")\n",
    "\n",
    "# Output the mean and standard deviation of the cross-validation scores\n",
    "print(f\"Mean R-squared: {np.mean(cv_scores):.2f}\")\n",
    "print(f\"Standard Deviation: {np.std(cv_scores):.2f}\")\n",
    "\n",
    "# Fitting the model on the entire dataset\n",
    "rf_model.fit(X, y)\n",
    "\n",
    "# Features importances can also be viewed\n",
    "print(\"Feature Importances:\", rf_model.feature_importances_)"
   ]
  },
  {
   "cell_type": "markdown",
   "id": "f19c146d",
   "metadata": {},
   "source": [
    "## 8:Plugs_wall_AU/NZ"
   ]
  },
  {
   "cell_type": "code",
   "execution_count": 12,
   "id": "0544ff3a",
   "metadata": {},
   "outputs": [
    {
     "name": "stdout",
     "output_type": "stream",
     "text": [
      "R-squared scores for the individual folds: [ 0.94479482 -3.33726237 -0.02220277  0.76230119  0.94500293  0.12378488\n",
      " -3.15487027  0.73792123  0.47418178  0.80177321]\n",
      "Mean R-squared: -0.17\n",
      "Standard Deviation: 1.57\n",
      "Feature Importances: [0.09673841 0.7528612  0.04019717 0.02047944 0.04074536 0.00614976\n",
      " 0.0246121  0.01821656]\n"
     ]
    }
   ],
   "source": [
    "X = df[['Power 1','charging_stations', 'Nearby EVStations', 'Hospitals', 'Parks', 'Restaurants', 'Malls', 'Supermarkets']]\n",
    "y = df['Plugs_wall_AU/NZ']\n",
    "\n",
    "# Create a Random Forest Regressor model\n",
    "rf_model = RandomForestRegressor(n_estimators=100, random_state=42)\n",
    "\n",
    "# Perform 10-fold cross-validation\n",
    "cv_scores = cross_val_score(rf_model, X, y, cv=10, scoring='r2')\n",
    "\n",
    "# Output the individual cross-validation scores\n",
    "print(f\"R-squared scores for the individual folds: {cv_scores}\")\n",
    "\n",
    "# Output the mean and standard deviation of the cross-validation scores\n",
    "print(f\"Mean R-squared: {np.mean(cv_scores):.2f}\")\n",
    "print(f\"Standard Deviation: {np.std(cv_scores):.2f}\")\n",
    "\n",
    "# Fitting the model on the entire dataset\n",
    "rf_model.fit(X, y)\n",
    "\n",
    "# Features importances can also be viewed\n",
    "print(\"Feature Importances:\", rf_model.feature_importances_)"
   ]
  }
 ],
 "metadata": {
  "kernelspec": {
   "display_name": "Python 3 (ipykernel)",
   "language": "python",
   "name": "python3"
  },
  "language_info": {
   "codemirror_mode": {
    "name": "ipython",
    "version": 3
   },
   "file_extension": ".py",
   "mimetype": "text/x-python",
   "name": "python",
   "nbconvert_exporter": "python",
   "pygments_lexer": "ipython3",
   "version": "3.9.12"
  }
 },
 "nbformat": 4,
 "nbformat_minor": 5
}
