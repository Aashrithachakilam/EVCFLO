{
 "cells": [
  {
   "cell_type": "code",
   "execution_count": 2,
   "id": "b23a4da4",
   "metadata": {},
   "outputs": [],
   "source": [
    "import pandas as pd\n",
    "from sklearn.model_selection import train_test_split\n",
    "from sklearn.linear_model import LinearRegression\n",
    "from sklearn.metrics import mean_squared_error, r2_score\n",
    "from sklearn.preprocessing import MinMaxScaler\n",
    "import matplotlib.pyplot as plt\n",
    "import seaborn as sns\n",
    "\n",
    "# Read the CSV file\n",
    "df = pd.read_csv('New_Australian_EV_Charging_Stations.csv')\n"
   ]
  },
  {
   "cell_type": "markdown",
   "id": "b76e5e0d",
   "metadata": {},
   "source": [
    "## 1: Plugs_Type2"
   ]
  },
  {
   "cell_type": "code",
   "execution_count": 4,
   "id": "796dd72f",
   "metadata": {},
   "outputs": [
    {
     "name": "stdout",
     "output_type": "stream",
     "text": [
      "                   Coefficient\n",
      "Power 1              -0.018474\n",
      "charging_stations     0.533544\n",
      "Nearby EVStations    -0.032778\n",
      "Hospitals             0.071359\n",
      "Parks                 0.003829\n",
      "Restaurants           0.012373\n",
      "Malls                 0.035459\n",
      "Supermarkets         -0.032669\n"
     ]
    }
   ],
   "source": [
    "##simple linear regression## - set y as 'Plugs_Type2'\n",
    "\n",
    "##setting features and target\n",
    "X = df[['Power 1','charging_stations', 'Nearby EVStations', 'Hospitals', 'Parks', 'Restaurants', 'Malls', 'Supermarkets']]\n",
    "y = df['Plugs_Type2']\n",
    "\n",
    "X_train, X_test, y_train, y_test = train_test_split(X, y, test_size=0.2, random_state=42)\n",
    "\n",
    "model = LinearRegression()\n",
    "\n",
    "model.fit(X_train, y_train)\n",
    "\n",
    "y_pred = model.predict(X_test)\n",
    "\n",
    "# Print the coefficients\n",
    "coeff_df = pd.DataFrame(model.coef_, X_train.columns, columns=['Coefficient'])\n",
    "print(coeff_df)"
   ]
  },
  {
   "cell_type": "markdown",
   "id": "f2f4861e",
   "metadata": {},
   "source": [
    "## 2:Plugs_Three_Phase"
   ]
  },
  {
   "cell_type": "code",
   "execution_count": 5,
   "id": "838b4e01",
   "metadata": {},
   "outputs": [
    {
     "name": "stdout",
     "output_type": "stream",
     "text": [
      "                   Coefficient\n",
      "Power 1              -0.000085\n",
      "charging_stations     0.001018\n",
      "Nearby EVStations    -0.002813\n",
      "Hospitals            -0.005770\n",
      "Parks                -0.004526\n",
      "Restaurants           0.000119\n",
      "Malls                -0.000363\n",
      "Supermarkets          0.008296\n"
     ]
    }
   ],
   "source": [
    "##simple linear regression## - set y as 'Plugs_Three_Phase'\n",
    "\n",
    "##setting features and target\n",
    "X = df[['Power 1','charging_stations', 'Nearby EVStations', 'Hospitals', 'Parks', 'Restaurants', 'Malls', 'Supermarkets']]\n",
    "y = df['Plugs_Three_Phase']\n",
    "\n",
    "X_train, X_test, y_train, y_test = train_test_split(X, y, test_size=0.2, random_state=42)\n",
    "\n",
    "model = LinearRegression()\n",
    "\n",
    "model.fit(X_train, y_train)\n",
    "\n",
    "y_pred = model.predict(X_test)\n",
    "\n",
    "# Print the coefficients\n",
    "coeff_df = pd.DataFrame(model.coef_, X_train.columns, columns=['Coefficient'])\n",
    "print(coeff_df)"
   ]
  },
  {
   "cell_type": "markdown",
   "id": "e865d950",
   "metadata": {},
   "source": [
    "## 3:Plugs_CHAdeMO"
   ]
  },
  {
   "cell_type": "code",
   "execution_count": 8,
   "id": "6a38f59a",
   "metadata": {},
   "outputs": [
    {
     "name": "stdout",
     "output_type": "stream",
     "text": [
      "                   Coefficient\n",
      "Power 1               0.009156\n",
      "charging_stations     0.086694\n",
      "Nearby EVStations    -0.013569\n",
      "Hospitals             0.005846\n",
      "Parks                 0.000318\n",
      "Restaurants          -0.003654\n",
      "Malls                -0.011375\n",
      "Supermarkets          0.002494\n"
     ]
    }
   ],
   "source": [
    "##simple linear regression## - set y as 'CHAdeMO'\n",
    "\n",
    "##setting features and target\n",
    "X = df[['Power 1','charging_stations', 'Nearby EVStations', 'Hospitals', 'Parks', 'Restaurants', 'Malls', 'Supermarkets']]\n",
    "y = df['Plugs_CHAdeMO']\n",
    "\n",
    "X_train, X_test, y_train, y_test = train_test_split(X, y, test_size=0.2, random_state=42)\n",
    "\n",
    "model = LinearRegression()\n",
    "\n",
    "model.fit(X_train, y_train)\n",
    "\n",
    "y_pred = model.predict(X_test)\n",
    "\n",
    "# Print the coefficients\n",
    "coeff_df = pd.DataFrame(model.coef_, X_train.columns, columns=['Coefficient'])\n",
    "print(coeff_df)"
   ]
  },
  {
   "cell_type": "markdown",
   "id": "c974923a",
   "metadata": {},
   "source": [
    "## 4:Plugs_CCS/SAE"
   ]
  },
  {
   "cell_type": "code",
   "execution_count": 9,
   "id": "62e1258d",
   "metadata": {},
   "outputs": [
    {
     "name": "stdout",
     "output_type": "stream",
     "text": [
      "                   Coefficient\n",
      "Power 1               0.009072\n",
      "charging_stations     0.098171\n",
      "Nearby EVStations    -0.009402\n",
      "Hospitals             0.003547\n",
      "Parks                -0.007543\n",
      "Restaurants           0.004411\n",
      "Malls                -0.010690\n",
      "Supermarkets         -0.003069\n"
     ]
    }
   ],
   "source": [
    "##simple linear regression## - set y as 'Plugs_CCS/SAE'\n",
    "\n",
    "##setting features and target\n",
    "X = df[['Power 1','charging_stations', 'Nearby EVStations', 'Hospitals', 'Parks', 'Restaurants', 'Malls', 'Supermarkets']]\n",
    "y = df['Plugs_CCS/SAE']\n",
    "\n",
    "X_train, X_test, y_train, y_test = train_test_split(X, y, test_size=0.2, random_state=42)\n",
    "\n",
    "model = LinearRegression()\n",
    "\n",
    "model.fit(X_train, y_train)\n",
    "\n",
    "y_pred = model.predict(X_test)\n",
    "\n",
    "# Print the coefficients\n",
    "coeff_df = pd.DataFrame(model.coef_, X_train.columns, columns=['Coefficient'])\n",
    "print(coeff_df)"
   ]
  },
  {
   "cell_type": "markdown",
   "id": "7a207f78",
   "metadata": {},
   "source": [
    "## 5.Plugs_Tesla"
   ]
  },
  {
   "cell_type": "code",
   "execution_count": 10,
   "id": "509dc8b6",
   "metadata": {},
   "outputs": [
    {
     "name": "stdout",
     "output_type": "stream",
     "text": [
      "                   Coefficient\n",
      "Power 1               0.005023\n",
      "charging_stations     0.032624\n",
      "Nearby EVStations     0.020303\n",
      "Hospitals             0.009796\n",
      "Parks                -0.007979\n",
      "Restaurants           0.007092\n",
      "Malls                -0.003426\n",
      "Supermarkets         -0.006271\n"
     ]
    }
   ],
   "source": [
    "##simple linear regression## - set y as 'Plugs_Tesla'\n",
    "\n",
    "##setting features and target\n",
    "X = df[['Power 1','charging_stations', 'Nearby EVStations', 'Hospitals', 'Parks', 'Restaurants', 'Malls', 'Supermarkets']]\n",
    "y = df['Plugs_Tesla']\n",
    "\n",
    "X_train, X_test, y_train, y_test = train_test_split(X, y, test_size=0.2, random_state=42)\n",
    "\n",
    "model = LinearRegression()\n",
    "\n",
    "model.fit(X_train, y_train)\n",
    "\n",
    "y_pred = model.predict(X_test)\n",
    "\n",
    "# Print the coefficients\n",
    "coeff_df = pd.DataFrame(model.coef_, X_train.columns, columns=['Coefficient'])\n",
    "print(coeff_df)"
   ]
  },
  {
   "cell_type": "markdown",
   "id": "a430a471",
   "metadata": {},
   "source": [
    "## 6.Plugs_J-1772"
   ]
  },
  {
   "cell_type": "code",
   "execution_count": 11,
   "id": "3ec1df68",
   "metadata": {},
   "outputs": [
    {
     "name": "stdout",
     "output_type": "stream",
     "text": [
      "                   Coefficient\n",
      "Power 1              -0.000343\n",
      "charging_stations     0.008645\n",
      "Nearby EVStations    -0.013437\n",
      "Hospitals            -0.001244\n",
      "Parks                 0.007973\n",
      "Restaurants           0.002126\n",
      "Malls                 0.022306\n",
      "Supermarkets         -0.007793\n"
     ]
    }
   ],
   "source": [
    "##simple linear regression## - set y as 'Plugs_J-1772'\n",
    "\n",
    "##setting features and target\n",
    "X = df[['Power 1','charging_stations', 'Nearby EVStations', 'Hospitals', 'Parks', 'Restaurants', 'Malls', 'Supermarkets']]\n",
    "y = df['Plugs_J-1772']\n",
    "\n",
    "X_train, X_test, y_train, y_test = train_test_split(X, y, test_size=0.2, random_state=42)\n",
    "\n",
    "model = LinearRegression()\n",
    "\n",
    "model.fit(X_train, y_train)\n",
    "\n",
    "y_pred = model.predict(X_test)\n",
    "\n",
    "# Print the coefficients\n",
    "coeff_df = pd.DataFrame(model.coef_, X_train.columns, columns=['Coefficient'])\n",
    "print(coeff_df)"
   ]
  },
  {
   "cell_type": "markdown",
   "id": "68fc3618",
   "metadata": {},
   "source": [
    "## 7.Plugs_Caravan_Mains_Socket"
   ]
  },
  {
   "cell_type": "code",
   "execution_count": 12,
   "id": "213102a2",
   "metadata": {},
   "outputs": [
    {
     "name": "stdout",
     "output_type": "stream",
     "text": [
      "                   Coefficient\n",
      "Power 1              -0.000007\n",
      "charging_stations    -0.000365\n",
      "Nearby EVStations    -0.000698\n",
      "Hospitals            -0.000402\n",
      "Parks                 0.000412\n",
      "Restaurants           0.000082\n",
      "Malls                 0.000682\n",
      "Supermarkets         -0.000559\n"
     ]
    }
   ],
   "source": [
    "##simple linear regression## - set y as 'Plugs_Caravan_Mains_Socket'\n",
    "\n",
    "##setting features and target\n",
    "X = df[['Power 1','charging_stations', 'Nearby EVStations', 'Hospitals', 'Parks', 'Restaurants', 'Malls', 'Supermarkets']]\n",
    "y = df['Plugs_Caravan_Mains_Socket']\n",
    "\n",
    "X_train, X_test, y_train, y_test = train_test_split(X, y, test_size=0.2, random_state=42)\n",
    "\n",
    "model = LinearRegression()\n",
    "\n",
    "model.fit(X_train, y_train)\n",
    "\n",
    "y_pred = model.predict(X_test)\n",
    "\n",
    "# Print the coefficients\n",
    "coeff_df = pd.DataFrame(model.coef_, X_train.columns, columns=['Coefficient'])\n",
    "print(coeff_df)"
   ]
  },
  {
   "cell_type": "markdown",
   "id": "45a9abe9",
   "metadata": {},
   "source": [
    "## 8. Plugs_wall_AU/NZ"
   ]
  },
  {
   "cell_type": "code",
   "execution_count": 13,
   "id": "81402e5e",
   "metadata": {},
   "outputs": [
    {
     "name": "stdout",
     "output_type": "stream",
     "text": [
      "                   Coefficient\n",
      "Power 1              -0.003724\n",
      "charging_stations     0.241092\n",
      "Nearby EVStations     0.042729\n",
      "Hospitals            -0.059108\n",
      "Parks                 0.006724\n",
      "Restaurants          -0.021505\n",
      "Malls                -0.034750\n",
      "Supermarkets          0.042084\n"
     ]
    }
   ],
   "source": [
    "##simple linear regression## - set y as 'Plugs_wall_AU/NZ'\n",
    "\n",
    "##setting features and target\n",
    "X = df[['Power 1','charging_stations', 'Nearby EVStations', 'Hospitals', 'Parks', 'Restaurants', 'Malls', 'Supermarkets']]\n",
    "y = df['Plugs_wall_AU/NZ']\n",
    "\n",
    "X_train, X_test, y_train, y_test = train_test_split(X, y, test_size=0.2, random_state=42)\n",
    "\n",
    "model = LinearRegression()\n",
    "\n",
    "model.fit(X_train, y_train)\n",
    "\n",
    "y_pred = model.predict(X_test)\n",
    "\n",
    "# Print the coefficients\n",
    "coeff_df = pd.DataFrame(model.coef_, X_train.columns, columns=['Coefficient'])\n",
    "print(coeff_df)"
   ]
  },
  {
   "cell_type": "code",
   "execution_count": null,
   "id": "72bebe78",
   "metadata": {},
   "outputs": [],
   "source": []
  }
 ],
 "metadata": {
  "kernelspec": {
   "display_name": "Python 3 (ipykernel)",
   "language": "python",
   "name": "python3"
  },
  "language_info": {
   "codemirror_mode": {
    "name": "ipython",
    "version": 3
   },
   "file_extension": ".py",
   "mimetype": "text/x-python",
   "name": "python",
   "nbconvert_exporter": "python",
   "pygments_lexer": "ipython3",
   "version": "3.9.12"
  }
 },
 "nbformat": 4,
 "nbformat_minor": 5
}
