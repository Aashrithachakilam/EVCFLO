{
 "cells": [
  {
   "cell_type": "code",
   "execution_count": 1,
   "metadata": {},
   "outputs": [],
   "source": [
    "import pandas as pd"
   ]
  },
  {
   "cell_type": "markdown",
   "metadata": {},
   "source": [
    "## ADD DATASET"
   ]
  },
  {
   "cell_type": "code",
   "execution_count": 2,
   "metadata": {},
   "outputs": [],
   "source": [
    "url=\"\"\n",
    "\n",
    "#Option 2 the above url is \"None\" unlike the example in Option 1. The following code is a defined function, when run it will prompt you to enter a file location.\n",
    "\n",
    "def load_data(url=None):\n",
    "    if url is None:\n",
    "        url = input(\"Please enter the URL to the CSV file: \")\n",
    "    \n",
    "    data = pd.read_csv(url)\n",
    "    return data\n",
    "\n",
    "data = load_data()"
   ]
  },
  {
   "cell_type": "markdown",
   "metadata": {},
   "source": [
    "## ENTER YOUR LOCATION"
   ]
  },
  {
   "cell_type": "code",
   "execution_count": 18,
   "metadata": {},
   "outputs": [],
   "source": [
    "# Your current location (latitude and longitude)\n",
    "your_lat = float(input(\"Enter your latitude: \"))\n",
    "your_long = float(input(\"Enter your longitude: \"))"
   ]
  },
  {
   "cell_type": "markdown",
   "metadata": {},
   "source": [
    "## CALCULATE CLOSEST STATION"
   ]
  },
  {
   "cell_type": "code",
   "execution_count": 19,
   "metadata": {},
   "outputs": [
    {
     "name": "stdout",
     "output_type": "stream",
     "text": [
      "The closest service station to your entered coordinates is 3-7 Tank Street,LITHGOW NSW 2790,AUSTRALIA.\n",
      "It is approximately 55.19 kilometers away from the entered coordinates.\n"
     ]
    }
   ],
   "source": [
    "import math\n",
    "\n",
    "# Function to calculate the Haversine distance between two points on the Earth's surface\n",
    "def haversine(lat1, lon1, lat2, lon2):\n",
    "    # Radius of the Earth in kilometers\n",
    "    radius = 6371.0\n",
    "    \n",
    "    # Convert latitude and longitude from degrees to radians\n",
    "    lat1 = math.radians(lat1)\n",
    "    lon1 = math.radians(lon1)\n",
    "    lat2 = math.radians(lat2)\n",
    "    lon2 = math.radians(lon2)\n",
    "    \n",
    "    # Differences in latitude and longitude\n",
    "    dlat = lat2 - lat1\n",
    "    dlon = lon2 - lon1\n",
    "    \n",
    "    # Haversine formula https://www.geeksforgeeks.org/haversine-formula-to-find-distance-between-two-points-on-a-sphere/\n",
    "    a = math.sin(dlat/2)**2 + math.cos(lat1) * math.cos(lat2) * math.sin(dlon/2)**2\n",
    "    c = 2 * math.atan2(math.sqrt(a), math.sqrt(1 - a))\n",
    "    \n",
    "    # Calculate the distance\n",
    "    distance = radius * c\n",
    "    \n",
    "    return distance\n",
    "\n",
    "# Initialize variables to track the closest location and its distance\n",
    "closest_location = None\n",
    "min_distance = float('inf')\n",
    "\n",
    "# Iterate through the DataFrame to find the closest location\n",
    "for index, row in data.iterrows():\n",
    "    location_name = row['Service_Station_Location']\n",
    "    location_lat = row['Latitude']\n",
    "    location_lon = row['Longitude']\n",
    "    \n",
    "    dist = haversine(your_lat, your_long, location_lat, location_lon)\n",
    "    \n",
    "    if dist < min_distance:\n",
    "        min_distance = dist\n",
    "        closest_location = location_name\n",
    "\n",
    "# Print the closest location and its distance\n",
    "print(f\"The closest service station to your entered coordinates is {closest_location}.\")\n",
    "print(f\"It is approximately {min_distance:.2f} kilometers away from the entered coordinates.\")"
   ]
  },
  {
   "cell_type": "markdown",
   "metadata": {},
   "source": [
    "## FIND CLOSEST CHARGER TYPE"
   ]
  },
  {
   "cell_type": "code",
   "execution_count": 20,
   "metadata": {},
   "outputs": [],
   "source": [
    "charger_name = input(\"Enter the name of the Charger Type: \")\n",
    "\n",
    "url2 = \"C:\\\\Users\\\\jamie\\\\Documents\\\\GitHub\\\\EVCFLO\\\\datasets\\\\T2_2023\\\\Charger_Compiler_Type_T2_2023.csv\"\n",
    "\n",
    "charger_data = pd.read_csv(url2)"
   ]
  },
  {
   "cell_type": "code",
   "execution_count": 21,
   "metadata": {},
   "outputs": [
    {
     "name": "stdout",
     "output_type": "stream",
     "text": [
      "The closest Tesla charging station to your entered coordinates is approximately 467.36 kilometers away from the entered coordinates.\n"
     ]
    }
   ],
   "source": [
    "# Initialize variables to track the closest location and its distance\n",
    "closest_location = None\n",
    "min_distance = float('inf')\n",
    "\n",
    "# Specify the charger type you want to filter by\n",
    "desired_charger_type = charger_name \n",
    "\n",
    "# Iterate through the new DataFrame to find the closest location with the desired charger type\n",
    "for index, row in charger_data.iterrows():\n",
    "    #location_name = row['Service_Station_Location']\n",
    "    location_lat = row['Latitude']\n",
    "    location_lon = row['Longitude']\n",
    "    charger_type = row['charger_type']\n",
    "    \n",
    "    # Check if the charger type matches the desired charger type\n",
    "    if charger_type == desired_charger_type:\n",
    "        dist = haversine(your_lat, your_long, location_lat, location_lon)\n",
    "        \n",
    "        if dist < min_distance:\n",
    "            min_distance = dist\n",
    "            closest_location = location_name\n",
    "\n",
    "# Print the closest location with the desired charger type and its distance\n",
    "if closest_location is not None:\n",
    "    print(f\"The closest {desired_charger_type} charging station to your entered coordinates is approximately {min_distance:.2f} kilometers away from the entered coordinates.\")\n",
    "else:\n",
    "    print(f\"No {desired_charger_type} service stations found near the entered coordinates.\")"
   ]
  }
 ],
 "metadata": {
  "kernelspec": {
   "display_name": "base",
   "language": "python",
   "name": "python3"
  },
  "language_info": {
   "codemirror_mode": {
    "name": "ipython",
    "version": 3
   },
   "file_extension": ".py",
   "mimetype": "text/x-python",
   "name": "python",
   "nbconvert_exporter": "python",
   "pygments_lexer": "ipython3",
   "version": "3.9.12"
  },
  "orig_nbformat": 4
 },
 "nbformat": 4,
 "nbformat_minor": 2
}
