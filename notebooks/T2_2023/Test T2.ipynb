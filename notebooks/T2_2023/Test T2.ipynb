{
 "cells": [
  {
   "cell_type": "markdown",
   "id": "4d6499d8-29bd-4f3c-bc52-06a63b22f77f",
   "metadata": {},
   "source": [
    "#  Test branch and upload.\n",
    "by Siju"
   ]
  },
  {
   "cell_type": "code",
   "execution_count": 1,
   "id": "c45aaf95-ce28-4e3a-992d-c58f9db183f9",
   "metadata": {
    "tags": []
   },
   "outputs": [
    {
     "name": "stdout",
     "output_type": "stream",
     "text": [
      "2.12.0\n"
     ]
    }
   ],
   "source": [
    "import tensorflow as tf\n",
    "print(tf.__version__)"
   ]
  },
  {
   "cell_type": "code",
   "execution_count": null,
   "id": "8a5852e8-d543-47a5-8746-6a9806972d0a",
   "metadata": {},
   "outputs": [],
   "source": []
  }
 ],
 "metadata": {
  "kernelspec": {
   "display_name": "Python 3 (ipykernel)",
   "language": "python",
   "name": "python3"
  },
  "language_info": {
   "codemirror_mode": {
    "name": "ipython",
    "version": 3
   },
   "file_extension": ".py",
   "mimetype": "text/x-python",
   "name": "python",
   "nbconvert_exporter": "python",
   "pygments_lexer": "ipython3",
   "version": "3.9.17"
  }
 },
 "nbformat": 4,
 "nbformat_minor": 5
}
