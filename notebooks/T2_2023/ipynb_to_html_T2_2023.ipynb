{
 "cells": [
  {
   "cell_type": "markdown",
   "metadata": {},
   "source": [
    "## This Notebook can convert your .ipynb notebook files into a constant HTML format to add the our webpage :)"
   ]
  },
  {
   "cell_type": "markdown",
   "metadata": {},
   "source": [
    "We import the necessary modules:\n",
    "\n",
    "\"nbformat\" is used for reading and writing Jupyter Notebook files. \\\n",
    "\"HTMLExporter\" is used for converting the notebook to HTML."
   ]
  },
  {
   "cell_type": "code",
   "execution_count": 1,
   "metadata": {},
   "outputs": [],
   "source": [
    "import os\n",
    "import nbformat\n",
    "from nbconvert import HTMLExporter"
   ]
  },
  {
   "cell_type": "markdown",
   "metadata": {},
   "source": [
    "## Step 1:\n",
    "\n",
    "Define a function to convert ipynb to html."
   ]
  },
  {
   "cell_type": "code",
   "execution_count": 2,
   "metadata": {},
   "outputs": [],
   "source": [
    "def convert_ipynb_to_html(ipynb_file, output_directory):\n",
    "    try:\n",
    "        # Extract the base name (without extension) of the notebook file\n",
    "        notebook_base_name = os.path.splitext(os.path.basename(ipynb_file))[0]\n",
    "\n",
    "        # Read the .ipynb file using nbformat and version 4\n",
    "        with open(ipynb_file, 'r', encoding='utf-8') as notebook_file:\n",
    "            notebook_format = nbformat.read(notebook_file, as_version=4)\n",
    "\n",
    "        # Export the notebook to HTML using the HTMLExporter function\n",
    "        (body, resources) = HTMLExporter().from_notebook_node(notebook_format)\n",
    "\n",
    "        # Create the full output file path by joining the directory and notebook's base name\n",
    "        output_file_path = os.path.join(output_directory, f\"{notebook_base_name}.html\")\n",
    "\n",
    "        # Write the HTML content to the specified output file location\n",
    "        with open(output_file_path, 'w', encoding='utf-8') as output_file:\n",
    "            output_file.write(body)\n",
    "    \n",
    "        print(f\"Conversion completed successfully. HTML file saved at {output_file_path}\")\n",
    "    \n",
    "    except FileNotFoundError:\n",
    "        print(f\"Error: File not found - {ipynb_file}\")\n",
    "    except Exception as e:\n",
    "        print(f\"Error: An unexpected error occurred - {str(e)}\")"
   ]
  },
  {
   "cell_type": "markdown",
   "metadata": {},
   "source": [
    "## Step 2\n",
    "\n",
    "Enter a notebook location by right clicking on the .ipynb file and selecting \"Copy Path\""
   ]
  },
  {
   "cell_type": "code",
   "execution_count": 20,
   "metadata": {},
   "outputs": [
    {
     "name": "stdout",
     "output_type": "stream",
     "text": [
      "Great! You entered the following path: C:\\Users\\jamie\\Documents\\GitHub\\EVCFLO\\notebooks\\T2_2023\\Find_A_Station_T2_2023.ipynb\n"
     ]
    }
   ],
   "source": [
    "notebook_import = input(\"Please enter the path to the Jupyter Notebook file you want to convert: \")\n",
    "\n",
    "print(f\"Great! You entered the following path: {notebook_import}\")"
   ]
  },
  {
   "cell_type": "markdown",
   "metadata": {},
   "source": [
    "## Step 3\n",
    "\n",
    "Enter the location to save the HTML format of the .ipynb to by again selecting \"Copy Path\" (hint: probably save it in frontend/T22023)"
   ]
  },
  {
   "cell_type": "code",
   "execution_count": 7,
   "metadata": {},
   "outputs": [
    {
     "name": "stdout",
     "output_type": "stream",
     "text": [
      "Great! You entered the following path: C:\\Users\\jamie\\Documents\\GitHub\\EVCFLO\\frontend\\notebooks\\T22023\n"
     ]
    }
   ],
   "source": [
    "HTML_export = input(\"Please enter the path to the Jupyter Notebook file you want to convert: \")\n",
    "\n",
    "print(f\"Great! You entered the following path: {HTML_export}\")"
   ]
  },
  {
   "cell_type": "markdown",
   "metadata": {},
   "source": [
    "## Step 4 (LAST STEP)\n",
    "\n",
    "Run the convert_ipynb_to_html function!"
   ]
  },
  {
   "cell_type": "code",
   "execution_count": 21,
   "metadata": {},
   "outputs": [
    {
     "name": "stdout",
     "output_type": "stream",
     "text": [
      "Conversion completed successfully. HTML file saved at C:\\Users\\jamie\\Documents\\GitHub\\EVCFLO\\frontend\\notebooks\\T22023\\Find_A_Station_T2_2023.html\n"
     ]
    }
   ],
   "source": [
    "convert_ipynb_to_html(notebook_import, HTML_export)"
   ]
  }
 ],
 "metadata": {
  "kernelspec": {
   "display_name": "base",
   "language": "python",
   "name": "python3"
  },
  "language_info": {
   "codemirror_mode": {
    "name": "ipython",
    "version": 3
   },
   "file_extension": ".py",
   "mimetype": "text/x-python",
   "name": "python",
   "nbconvert_exporter": "python",
   "pygments_lexer": "ipython3",
   "version": "3.9.12"
  },
  "orig_nbformat": 4
 },
 "nbformat": 4,
 "nbformat_minor": 2
}
