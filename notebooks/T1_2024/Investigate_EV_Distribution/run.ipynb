{
 "cells": [
  {
   "cell_type": "markdown",
   "metadata": {},
   "source": [
    "### <span style=\"color:red\"><b>Investigate the Distribution of EV Charger Stations</b></span>\n",
    "    around major entertainment facilities and other community use sites in city of Melbourne.\n",
    "\n",
    "Goal: to help understand if there is a demand for future additions around major destinations for people to spend time in the city."
   ]
  },
  {
   "cell_type": "code",
   "execution_count": 2,
   "metadata": {},
   "outputs": [],
   "source": [
    "import pandas as pd\n",
    "import numpy as np\n",
    "import matplotlib.pyplot as plt\n",
    "from math import sin, cos, sqrt, atan2, radians"
   ]
  },
  {
   "cell_type": "markdown",
   "metadata": {},
   "source": [
    "Step 0: Prepare functions\n",
    "- read csv files\n",
    "- calculate distance between two locations based on geo coordinations"
   ]
  },
  {
   "cell_type": "code",
   "execution_count": 3,
   "metadata": {},
   "outputs": [],
   "source": [
    "# Read file\n",
    "'''\n",
    "input: filename(string)\n",
    "ouput: df(pandas dataframe)\n",
    "'''\n",
    "def read_csv(filename):\n",
    "    df = pd.read_csv(filename)\n",
    "    return df\n",
    "\n",
    "\n",
    "# Calculate distance(in meters) between two locations\n",
    "'''\n",
    "input: latitude_1(float),longitude_1(float),latitude_2(float),longitude_2(float)\n",
    "output: distance(float)\n",
    "'''\n",
    "def calculate_distance(latitude_1,longitude_1,latitude_2,longitude_2):\n",
    "    \n",
    "    R = 6373.0\n",
    "\n",
    "    lat1 = radians(latitude_1)\n",
    "    lon1 = radians(longitude_1)\n",
    "    lat2 = radians(latitude_2)\n",
    "    lon2 = radians(longitude_2)\n",
    "\n",
    "    dlon = lon2 - lon1\n",
    "    dlat = lat2 - lat1\n",
    "\n",
    "    a = sin(dlat / 2)**2 + cos(lat1) * cos(lat2) * sin(dlon / 2)**2\n",
    "    c = 2 * atan2(sqrt(a), sqrt(1 - a))\n",
    "    distance = R * c * 1000\n",
    "\n",
    "    return distance\n",
    "\n",
    "\n",
    "\n"
   ]
  },
  {
   "cell_type": "markdown",
   "metadata": {},
   "source": [
    "Step 1: Prepare data for landmarks\n",
    "- load landmarks and select target locations\n",
    "\n",
    "    Dataset resources: https://discover.data.vic.gov.au/dataset/ ,    \n",
    "    \"Landmarks and places of interest, including schools, theatres, health services, sports facilities, places of worship, galleries and museums.\"\n",
    "    \n",
    "    Original dataset has 242 entries. Here only locations under the theme of \"Community Use\", \"Leisure/Recreation\", \"Transport\" are selected, since there seems to have obvious demands for EV charger stations around such destinations.\n",
    "- reset the dataframe with two features: location name, geo coordinates"
   ]
  },
  {
   "cell_type": "code",
   "execution_count": 5,
   "metadata": {},
   "outputs": [
    {
     "name": "stdout",
     "output_type": "stream",
     "text": [
      "                     feature_name                         co_ordinates\n",
      "0               Port of Melbourne   -37.8137384362671, 144.91753432375\n",
      "1           Carlton Football Club  -37.7840864379557, 144.961967841559\n",
      "2           Carlton Gardens North  -37.8017690847403, 144.971997551189\n",
      "3                    Kings Domain  -37.8255239795833, 144.974107925144\n",
      "4           Flemington Racecourse  -37.7908082646624, 144.912142987372\n",
      "5                Treasury Gardens  -37.8143993575938, 144.975952335785\n",
      "6     Melbourne Magistrates Court  -37.8136147671606, 144.956846193891\n",
      "7       Flagstaff Railway Station  -37.8122356514626, 144.956318211113\n",
      "8  Melbourne Cricket Ground (MCG)  -37.8194921618419, 144.983402879078\n",
      "9          Queen Victoria Gardens  -37.8216381244891, 144.971049530478\n",
      "(110, 2)\n"
     ]
    }
   ],
   "source": [
    "# load landmarks and select target locations\n",
    "\n",
    "df_landmarks = read_csv(\"landmarks.csv\")\n",
    "rows_num = df_landmarks.shape[0]\n",
    "target_location_list = ['Community Use','Leisure/Recreation','Transport']\n",
    "\n",
    "for i in range(rows_num):\n",
    "    if df_landmarks.at[i,'theme'] not in target_location_list:\n",
    "        df_landmarks.drop(i,axis=0,inplace=True)\n",
    "\n",
    "df_landmarks.drop(columns=['theme','sub_theme'],inplace=True)\n",
    "\n",
    "\n",
    "# reset the dataframe with two features: location name, geo coordinates\n",
    "\n",
    "df_landmarks = df_landmarks.reset_index(drop=True)\n",
    "print(df_landmarks.head(10))\n",
    "print(df_landmarks.shape)"
   ]
  },
  {
   "cell_type": "markdown",
   "metadata": {},
   "source": [
    "Step 2: For each landmark, get the number of EV charger station around it\n",
    "\n",
    "- prepare data for EV charger station\n",
    "- for each landmark, calculate how many EV charger stations are there within the radius of 1 kilometers\n",
    "- integrate result and write to a csv file"
   ]
  },
  {
   "cell_type": "code",
   "execution_count": 36,
   "metadata": {},
   "outputs": [
    {
     "name": "stdout",
     "output_type": "stream",
     "text": [
      "391  entries in dataset 1 (before 2023)\n",
      "79  entries in dataset 2 (since 2023)\n"
     ]
    }
   ],
   "source": [
    "#load EV_charger dataset\n",
    "df_EV_1 = read_csv('Cleaned_Australian_EV_Charging_Stations.csv')\n",
    "df_EV_2 = read_csv('EV_Charging_Station_New_Data_2024T1.csv')\n",
    "\n",
    "print(df_EV_1.shape[0], ' entries in dataset 1 (before 2023)')\n",
    "print(df_EV_2.shape[0], ' entries in dataset 2 (since 2023)')"
   ]
  },
  {
   "cell_type": "code",
   "execution_count": 43,
   "metadata": {},
   "outputs": [
    {
     "name": "stdout",
     "output_type": "stream",
     "text": [
      "{'Port of Melbourne': 0, 'Carlton Football Club': 0, 'Carlton Gardens North': 6, 'Kings Domain': 9, 'Flemington Racecourse': 0, 'Treasury Gardens': 18, 'Melbourne Magistrates Court': 35, 'Flagstaff Railway Station': 31, 'Melbourne Cricket Ground (MCG)': 2, 'Queen Victoria Gardens': 13, 'Federation Square': 32, 'New Quay': 5, 'New Quay Marina': 7, 'Newmarket Reserve': 0, 'Wonderland Park': 4, 'Rod Laver Arena': 7, 'Melbourne Park': 6, 'Hisense Arena': 2, 'Elisabeth Murdoch Hall': 18, 'Melbourne Recital Centre': 18, 'J.J Holland Park': 2, 'South Kensington Railway Station': 2, 'Royal Park Railway Station': 0, 'Melbourne Central Railway Station': 33, 'Riverside Park': 2, 'Flagstaff Gardens': 26, 'Fawkner Park': 3, 'Fitzroy Gardens': 13, 'Enterprize Park': 31, 'Flinders Street Railway Station': 35, 'Metropolitan Fire Brigade (MFB)': 17, 'Commonwealth Law Courts': 32, 'Macarthur Square': 4, 'City Baths': 23, 'Westgate Park': 6, 'North Melbourne Railway Station': 7, 'Melbourne Childrens Court': 36, 'Etihad Stadium': 21, 'Eureka Skydeck 88': 27, 'County Court Melbourne': 35, 'Sandridge Rail Bridge': 35, 'Lincoln Square': 11, 'Flemington Bridge Railway Station': 0, 'Carlton Gardens South': 19, 'Victoria Police': 40, 'Royal Park Golf Course': 0, 'Visy Park': 0, 'Batman Park': 31, 'Melbourne Town Hall': 40, 'Sidney Myer Music Bowl': 9, 'AAMI Park': 2, 'Melbourne Star Observation Wheel': 4, 'Margaret Court Arena': 10, 'NGV International': 14, 'Birrarung Marr': 24, 'Artplay': 25, 'Riverslide Skate Park': 15, 'Macaulay Railway Station (North Melbourne) - Train stop': 2, 'Kensington Railway Station': 2, 'Royal Park': 0, 'Shrine of Rembrance Reserve': 4, 'Royal Botanic Gardens': 2, 'Yarra Park': 2, 'Icehouse': 4, 'Parliament Railway Station': 21, 'Flemington Racecourse Railway Station': 0, 'Darling Square': 3, 'Parliament Reserve': 20, 'North Melbourne Recreation Centre (Aquatic)': 0, 'North Melbourne Recreation Centre (Gymnasium)': 0, 'Carlton Baths': 0, 'Conservatory': 16, 'Melbourne Visitor Centre': 34, 'Melbourne Visitor Booth': 44, 'State Netball Hockey Centre': 0, 'University Square': 4, 'Powlett Reserve': 6, 'Melbourne General Cemetery': 0, 'Southern Cross Railway Station': 28, 'State Library Victoria': 34, 'Supreme Court': 36, 'Richmond Football Club': 2, 'Melbourne Zoo': 0, 'Melbourne International Shooting Club': 6, 'Docklands Park': 10, 'Point Park': 0, 'Melbourne Theatre Company': 16, 'Alexandra Gardens': 15, 'Richmond Railway Station (Richmond) - Train stop': 0, 'Jolimont-MCG Railway Station (East Melbourne) - Train stop': 4, 'North Melbourne Recreation Reserve': 0, 'Princes Park': 0, 'Shrine of Remembrance': 5, 'Showgrounds Railway Station (Flemington)': 0, 'Newmarket Railway Station': 0, 'Melbourne Showgrounds': 0, 'Argyle Square': 16, 'Piazza Italia': 13, 'Murchinson Square': 4, 'Westpac Centre': 2, 'Webb Bridge': 7}\n",
      "{'Port of Melbourne': [], 'Carlton Football Club': [], 'Carlton Gardens North': ['Melbourne Museum: 321m', 'Lygon Street Car park: 434m', 'Lonsdale St: 943m', 'Carlton: 427m', 'Lonsdale St: 944m', 'Carlton: 160m'], 'Kings Domain': ['Secure Parking: 853m', 'Holiday Inn Express Melbourne Southbank: 769m', 'South Melbourne: 837m', 'Wilson Parking Eureka: 890m', 'Southbank: 761m', 'Southbank: 865m', 'Southbank: 957m', 'Federation Square Car Park: 900m', 'The Arts Centre: 646m'], 'Flemington Racecourse': [], 'Treasury Gardens': ['Park Hyatt Melbourne: 274m', 'Wilson Parking: 793m', 'Collins St: 518m', 'Lonsdale St: 731m', 'Russell St: 780m', 'Russell St: 793m', 'Flinders St: 484m', 'Secure Parking (Southern Cross): 604m', 'Pullman Melbourne on the Park: 663m', 'Parliament PI: 371m', 'ACDC Garage: 496m', 'Pullman Melbourne: 659m', 'Lonsdale St: 919m', 'Bourke St: 509m', 'Lonsdale St: 669m', 'Grand Hyatt Melbourne: 552m', 'Federation Square Car Park: 553m', 'QV Melbourne - Car Park: 920m'], 'Melbourne Magistrates Court': ['Lonsdale St: 82m', 'Bourke St: 134m', 'Secure Parking (450 Flinders Lane): 598m', 'Hyatt Centric Melbourne: 761m', 'Wilson Parking: 998m', 'Alto Hotel: 351m', 'Queen Victoria Market - Underground Carpark: 658m', 'Queen St: 654m', 'Holiday Inn Express Melbourne Little Collins: 490m', '300 Latrobe Street - Wilson Car Park: 521m', 'Lonsdale St: 625m', 'Lonsdale St: 134m', 'Flinders Ln: 578m', 'Rialto Car Park: 613m', 'Russell St: 975m', 'Russell St: 998m', 'Latrobe Street: 313m', 'West Melbourne: 644m', 'Wilson Parking: 134m', 'Secure Parking - 460 Lonsdale Street Car Park: 146m', 'Downie St: 741m', 'Southbank: 308m', 'Bourke St: 357m', 'Melbourne Central Carpark: 622m', 'Flagstaff City Inn: 641m', 'Lonsdale St: 917m', 'Secure Parking (300 Flinders St): 815m', 'Collins St: 487m', 'Queens & Collins: 483m', 'Flagstaff Car Park: 110m', 'Flinders Ln: 593m', 'Bourke St: 338m', 'Cellarbrations: 814m', 'Flinders St: 798m', 'QV Melbourne - Car Park: 917m'], 'Flagstaff Railway Station': ['Lonsdale St: 200m', 'Bourke St: 350m', 'Secure Parking (450 Flinders Lane): 827m', 'Hyatt Centric Melbourne: 975m', 'Alto Hotel: 529m', 'Queen Victoria Market - Underground Carpark: 466m', 'Queen St: 461m', 'Holiday Inn Express Melbourne Little Collins: 694m', '300 Latrobe Street - Wilson Car Park: 437m', 'Lonsdale St: 638m', 'Lonsdale St: 244m', 'Flinders Ln: 806m', 'Rialto Car Park: 840m', 'Latrobe Street: 236m', 'West Melbourne: 480m', 'Wilson Parking: 350m', 'Secure Parking - 460 Lonsdale Street Car Park: 250m', 'Downie St: 953m', 'Southbank: 535m', 'Bourke St: 541m', 'Melbourne Central Carpark: 650m', 'Flagstaff City Inn: 476m', 'Lonsdale St: 927m', 'Collins St: 690m', 'Queens & Collins: 672m', 'Flagstaff Car Park: 166m', 'Flinders Ln: 820m', 'Bourke St: 551m', 'Cellarbrations: 663m', 'Flinders St: 993m', 'QV Melbourne - Car Park: 927m'], 'Melbourne Cricket Ground (MCG)': ['Pullman Melbourne on the Park: 389m', 'Pullman Melbourne: 409m'], 'Queen Victoria Gardens': ['Collins St: 746m', 'Holiday Inn Express Melbourne Southbank: 387m', 'Wilson Parking Eureka: 515m', 'Southbank: 327m', 'Flinders St: 603m', 'Southbank: 427m', 'Southbank: 540m', 'ACDC Garage: 607m', 'Secure Parking (300 Flinders St): 722m', 'Grand Hyatt Melbourne: 765m', 'Federation Square Car Park: 434m', 'The Arts Centre: 320m', 'Flinders St: 737m'], 'Federation Square': ['Secure Parking (450 Flinders Lane): 892m', 'Park Hyatt Melbourne: 910m', 'Wilson Parking: 736m', 'Collins St: 335m', 'Lonsdale St: 869m', 'Lonsdale St: 871m', 'Flinders Ln: 909m', 'Holiday Inn Express Melbourne Southbank: 493m', 'Russell St: 681m', 'Russell St: 736m', 'Wilson Parking Eureka: 544m', 'Southbank: 401m', 'Flinders St: 251m', 'Southbank: 398m', 'Secure Parking (Southern Cross): 602m', 'Southbank: 946m', 'Parliament PI: 999m', 'Southbank: 481m', 'ACDC Garage: 244m', 'Melbourne Central Carpark: 831m', 'Lonsdale St: 824m', 'Secure Parking (300 Flinders St): 436m', 'Bourke St: 661m', 'Queens & Collins: 690m', 'Lonsdale St: 864m', 'Grand Hyatt Melbourne: 340m', 'Federation Square Car Park: 204m', 'Flinders Ln: 996m', 'The Arts Centre: 552m', 'Bourke St: 860m', 'Flinders St: 435m', 'QV Melbourne - Car Park: 824m'], 'New Quay': ['District Docklands Shopping - West Carpark: 487m', 'Docklands: 459m', 'Docklands: 404m', 'Docklands: 355m', 'Cellarbrations: 880m'], 'New Quay Marina': ['District Docklands Shopping - West Carpark: 541m', 'Docklands: 512m', 'Docklands: 444m', 'West Melbourne: 959m', 'Docklands: 396m', 'Flagstaff City Inn: 961m', 'Cellarbrations: 845m'], 'Newmarket Reserve': [], 'Wonderland Park': ['District Docklands Shopping - West Carpark: 129m', 'Docklands: 131m', 'Docklands: 216m', 'Docklands: 244m'], 'Rod Laver Arena': ['Southbank: 981m', 'Flinders St: 927m', 'Pullman Melbourne on the Park: 791m', 'ACDC Garage: 940m', 'Pullman Melbourne: 809m', 'Federation Square Car Park: 793m', 'The Arts Centre: 953m'], 'Melbourne Park': ['Flinders St: 861m', 'Pullman Melbourne on the Park: 674m', 'ACDC Garage: 875m', 'Pullman Melbourne: 691m', 'Federation Square Car Park: 743m', 'The Arts Centre: 992m'], 'Hisense Arena': ['Pullman Melbourne on the Park: 800m', 'Pullman Melbourne: 821m'], 'Elisabeth Murdoch Hall': ['Secure Parking: 916m', 'South Melbourne: 872m', 'Secure Parking (450 Flinders Lane): 951m', 'South Melbourne: 930m', 'Flinders Ln: 976m', 'Holiday Inn Express Melbourne Southbank: 241m', 'South Melbourne: 891m', 'Crown Metropol Melbourne: 874m', 'Wilson Parking Eureka: 319m', 'Southbank: 304m', 'Flinders St: 916m', 'Southbank: 370m', 'Southbank: 412m', 'ACDC Garage: 914m', 'Secure Parking (300 Flinders St): 702m', 'Federation Square Car Park: 770m', 'The Arts Centre: 141m', 'Flinders St: 726m'], 'Melbourne Recital Centre': ['Secure Parking: 929m', 'South Melbourne: 897m', 'Secure Parking (450 Flinders Lane): 958m', 'South Melbourne: 955m', 'Flinders Ln: 983m', 'Holiday Inn Express Melbourne Southbank: 233m', 'South Melbourne: 904m', 'Crown Metropol Melbourne: 897m', 'Wilson Parking Eureka: 321m', 'Southbank: 290m', 'Flinders St: 894m', 'Southbank: 362m', 'Southbank: 410m', 'ACDC Garage: 892m', 'Secure Parking (300 Flinders St): 697m', 'Federation Square Car Park: 747m', 'The Arts Centre: 124m', 'Flinders St: 721m'], 'J.J Holland Park': ['Park Rises Residences: 262m', 'Kensington: 272m'], 'South Kensington Railway Station': ['Park Rises Residences: 306m', 'Kensington: 321m'], 'Royal Park Railway Station': [], 'Melbourne Central Railway Station': ['Lonsdale St: 788m', 'Melbourne Museum: 987m', 'Bourke St: 834m', 'Lygon Street Car park: 920m', 'Wilson Parking: 381m', 'Queen Victoria Market - Underground Carpark: 542m', 'Collins St: 780m', 'Queen St: 550m', 'Lonsdale St: 519m', '300 Latrobe Street - Wilson Car Park: 275m', 'Lonsdale St: 155m', 'Lonsdale St: 596m', 'Carlton: 922m', 'Russell St: 397m', 'Russell St: 381m', 'Latrobe Street: 932m', 'Flinders St: 932m', 'Wilson Parking: 834m', 'Secure Parking - 460 Lonsdale Street Car Park: 585m', 'Secure Parking (Southern Cross): 572m', 'Southbank: 823m', 'ACDC Garage: 920m', 'Melbourne Central Carpark: 192m', 'Lonsdale St: 258m', 'Secure Parking (300 Flinders St): 918m', 'Bourke St: 668m', 'Queens & Collins: 689m', 'Lonsdale St: 591m', 'Grand Hyatt Melbourne: 746m', 'Flagstaff Car Park: 785m', 'Bourke St: 746m', 'Flinders St: 891m', 'QV Melbourne - Car Park: 257m'], 'Riverside Park': ['Park Rises Residences: 977m', 'Kensington: 976m'], 'Flagstaff Gardens': ['Lonsdale St: 279m', 'Bourke St: 434m', 'Secure Parking (450 Flinders Lane): 924m', 'Alto Hotel: 570m', 'Queen Victoria Market - Underground Carpark: 485m', 'Queen St: 477m', 'Holiday Inn Express Melbourne Little Collins: 750m', '300 Latrobe Street - Wilson Car Park: 537m', 'Lonsdale St: 763m', 'Lonsdale St: 378m', 'Flinders Ln: 902m', 'Rialto Car Park: 923m', 'Latrobe Street: 172m', 'West Melbourne: 343m', 'Wilson Parking: 435m', 'Secure Parking - 460 Lonsdale Street Car Park: 385m', 'Southbank: 642m', 'Bourke St: 585m', 'Melbourne Central Carpark: 778m', 'Flagstaff City Inn: 339m', 'Collins St: 745m', 'Queens & Collins: 802m', 'Flagstaff Car Park: 240m', 'Flinders Ln: 905m', 'Bourke St: 671m', 'Cellarbrations: 527m'], 'Fawkner Park': ['Wilson’s Carpark: 950m', 'Pullman Melbourne Albert Park: 997m', 'Queens Road: 971m'], 'Fitzroy Gardens': ['Park Hyatt Melbourne: 397m', 'Collins St: 937m', 'Lonsdale St: 998m', 'Flinders St: 910m', 'Secure Parking (Southern Cross): 961m', 'Pullman Melbourne on the Park: 416m', 'Parliament PI: 410m', 'ACDC Garage: 923m', 'Pullman Melbourne: 400m', 'Bourke St: 843m', 'Lonsdale St: 926m', 'Grand Hyatt Melbourne: 969m', 'Federation Square Car Park: 965m'], 'Enterprize Park': ['Lonsdale St: 808m', 'Bourke St: 653m', 'Secure Parking (450 Flinders Lane): 165m', 'Hyatt Centric Melbourne: 306m', 'Alto Hotel: 599m', 'Holiday Inn Express Melbourne Little Collins: 437m', 'Lonsdale St: 798m', 'Flinders Ln: 186m', 'Holiday Inn Express Melbourne Southbank: 674m', 'Rialto Car Park: 191m', 'Melbourne Convention Exhibition Centre: 852m', 'Latrobe Street: 999m', 'Crown Metropol Melbourne: 605m', 'Wilson Parking Eureka: 545m', 'Southbank: 719m', 'Wilson Parking: 652m', 'Southbank: 621m', 'Secure Parking - 460 Lonsdale Street Car Park: 800m', 'Downie St: 326m', 'Southbank: 463m', 'Southbank: 505m', 'Bourke St: 580m', 'Secure Parking (300 Flinders St): 469m', 'Collins St: 443m', 'Queens & Collins: 513m', 'South Wharf: 722m', 'Flagstaff Car Park: 848m', 'Flinders Ln: 200m', 'The Arts Centre: 788m', 'Bourke St: 489m', 'Flinders St: 481m'], 'Flinders Street Railway Station': ['Bourke St: 995m', 'Secure Parking (450 Flinders Lane): 726m', 'Wilson Parking: 738m', 'Collins St: 421m', 'Lonsdale St: 902m', 'Lonsdale St: 795m', 'Lonsdale St: 945m', 'Flinders Ln: 743m', 'Holiday Inn Express Melbourne Southbank: 445m', 'Rialto Car Park: 841m', 'Russell St: 681m', 'Russell St: 738m', 'Wilson Parking Eureka: 455m', 'Southbank: 370m', 'Flinders St: 389m', 'Wilson Parking: 995m', 'Southbank: 324m', 'Secure Parking - 460 Lonsdale Street Car Park: 937m', 'Secure Parking (Southern Cross): 644m', 'Southbank: 785m', 'Southbank: 372m', 'ACDC Garage: 377m', 'Melbourne Central Carpark: 753m', 'Lonsdale St: 804m', 'Secure Parking (300 Flinders St): 270m', 'Bourke St: 728m', 'Queens & Collins: 536m', 'Lonsdale St: 911m', 'Grand Hyatt Melbourne: 411m', 'Federation Square Car Park: 371m', 'Flinders Ln: 829m', 'The Arts Centre: 537m', 'Bourke St: 703m', 'Flinders St: 268m', 'QV Melbourne - Car Park: 804m'], 'Metropolitan Fire Brigade (MFB)': ['Melbourne Museum: 560m', 'Park Hyatt Melbourne: 310m', 'Wilson Parking: 691m', 'Collins St: 782m', 'Lonsdale St: 496m', 'Russell St: 722m', 'Russell St: 691m', 'Flinders St: 863m', 'Secure Parking (Southern Cross): 616m', 'Parliament PI: 230m', 'ACDC Garage: 867m', 'Lonsdale St: 776m', 'Bourke St: 497m', 'Lonsdale St: 428m', 'Grand Hyatt Melbourne: 792m', 'QV Melbourne - Car Park: 776m', 'Carlton: 737m'], 'Commonwealth Law Courts': ['Lonsdale St: 116m', 'Bourke St: 270m', 'Secure Parking (450 Flinders Lane): 756m', 'Hyatt Centric Melbourne: 891m', 'Alto Hotel: 441m', 'Queen Victoria Market - Underground Carpark: 554m', 'Queen St: 548m', 'Holiday Inn Express Melbourne Little Collins: 608m', '300 Latrobe Street - Wilson Car Park: 499m', 'Lonsdale St: 673m', 'Lonsdale St: 223m', 'Flinders Ln: 734m', 'Rialto Car Park: 762m', 'Latrobe Street: 193m', 'West Melbourne: 493m', 'Wilson Parking: 270m', 'Secure Parking - 460 Lonsdale Street Car Park: 233m', 'Downie St: 868m', 'Southbank: 470m', 'Bourke St: 453m', 'Melbourne Central Carpark: 680m', 'Flagstaff City Inn: 490m', 'Lonsdale St: 966m', 'Secure Parking (300 Flinders St): 972m', 'Collins St: 604m', 'Queens & Collins: 635m', 'Flagstaff Car Park: 79m', 'Flinders Ln: 742m', 'Bourke St: 499m', 'Cellarbrations: 670m', 'Flinders St: 954m', 'QV Melbourne - Car Park: 966m'], 'Macarthur Square': ['Melbourne Museum: 705m', 'Lygon Street Car park: 577m', 'Carlton: 572m', 'Carlton: 542m'], 'City Baths': ['Lonsdale St: 945m', 'Melbourne Museum: 882m', 'Lygon Street Car park: 652m', 'Wilson Parking: 614m', 'Queen Victoria Market - Underground Carpark: 437m', 'Queen St: 447m', 'Lonsdale St: 656m', '300 Latrobe Street - Wilson Car Park: 388m', 'Lonsdale St: 469m', 'Lonsdale St: 790m', 'Carlton: 656m', 'Russell St: 651m', 'Russell St: 614m', 'Secure Parking - 460 Lonsdale Street Car Park: 781m', 'Secure Parking (Southern Cross): 810m', 'Melbourne Central Carpark: 509m', 'Lonsdale St: 493m', 'Bourke St: 874m', 'Queens & Collins: 988m', 'Lonsdale St: 726m', 'Flagstaff Car Park: 930m', 'QV Melbourne - Car Park: 493m', 'Carlton: 872m'], 'Westgate Park': ['Lorbek Luxury Cars: 979m', 'Lorbek Luxury Cars: 925m', 'Port Melbourne: 931m', 'Port Melbourne: 979m', 'Port Melbourne: 748m', 'Coles Express with co-located Hungry Jacks: 761m'], 'North Melbourne Railway Station': ['District Docklands Shopping - West Carpark: 776m', 'Docklands: 747m', 'Docklands: 594m', 'West Melbourne: 812m', 'Docklands: 633m', 'Flagstaff City Inn: 816m', 'Cellarbrations: 631m'], 'Melbourne Childrens Court': ['Lonsdale St: 232m', 'Bourke St: 300m', 'Secure Parking (450 Flinders Lane): 696m', 'Hyatt Centric Melbourne: 905m', 'Wilson Parking: 847m', 'Alto Hotel: 526m', 'Queen Victoria Market - Underground Carpark: 523m', 'Queen St: 521m', 'Holiday Inn Express Melbourne Little Collins: 650m', '300 Latrobe Street - Wilson Car Park: 345m', 'Lonsdale St: 463m', 'Lonsdale St: 63m', 'Flinders Ln: 679m', 'Rialto Car Park: 735m', 'Russell St: 830m', 'Russell St: 847m', 'Latrobe Street: 411m', 'West Melbourne: 694m', 'Wilson Parking: 300m', 'Secure Parking - 460 Lonsdale Street Car Park: 60m', 'Secure Parking (Southern Cross): 987m', 'Downie St: 889m', 'Southbank: 398m', 'Bourke St: 531m', 'Melbourne Central Carpark: 466m', 'Flagstaff City Inn: 690m', 'Lonsdale St: 757m', 'Secure Parking (300 Flinders St): 814m', 'Collins St: 648m', 'Queens & Collins: 473m', 'Flagstaff Car Park: 233m', 'Flinders Ln: 713m', 'Bourke St: 382m', 'Cellarbrations: 876m', 'Flinders St: 793m', 'QV Melbourne - Car Park: 757m'], 'Etihad Stadium': ['Lonsdale St: 801m', 'Bourke St: 801m', 'Hyatt Centric Melbourne: 868m', 'District Docklands Shopping - West Carpark: 997m', 'Docklands: 964m', 'Alto Hotel: 627m', 'Holiday Inn Express Melbourne Little Collins: 709m', 'Rialto Car Park: 946m', 'Docklands: 855m', 'Latrobe Street: 681m', 'West Melbourne: 742m', 'Wilson Parking: 802m', 'Docklands: 818m', 'Downie St: 838m', 'Southbank: 960m', 'Bourke St: 640m', 'Flagstaff City Inn: 742m', 'Collins St: 704m', 'Flagstaff Car Park: 801m', 'Flinders Ln: 947m', 'Cellarbrations: 720m'], 'Eureka Skydeck 88': ['South Melbourne: 966m', 'Secure Parking (450 Flinders Lane): 597m', 'Hyatt Centric Melbourne: 786m', 'Collins St: 882m', 'Holiday Inn Express Melbourne Little Collins: 920m', 'Flinders Ln: 622m', 'Holiday Inn Express Melbourne Southbank: 180m', 'Rialto Car Park: 676m', 'Crown Metropol Melbourne: 747m', 'Wilson Parking Eureka: 50m', 'Southbank: 244m', 'Flinders St: 818m', 'Southbank: 176m', 'Downie St: 811m', 'Southbank: 820m', 'Southbank: 93m', 'ACDC Garage: 810m', 'Secure Parking (300 Flinders St): 376m', 'Collins St: 926m', 'Queens & Collins: 688m', 'South Wharf: 950m', 'Grand Hyatt Melbourne: 875m', 'Federation Square Car Park: 727m', 'Flinders Ln: 678m', 'The Arts Centre: 294m', 'Bourke St: 786m', 'Flinders St: 402m'], 'County Court Melbourne': ['Lonsdale St: 160m', 'Bourke St: 208m', 'Secure Parking (450 Flinders Lane): 626m', 'Hyatt Centric Melbourne: 819m', 'Wilson Parking: 911m', 'Alto Hotel: 435m', 'Queen Victoria Market - Underground Carpark: 602m', 'Queen St: 599m', 'Holiday Inn Express Melbourne Little Collins: 560m', '300 Latrobe Street - Wilson Car Park: 436m', 'Lonsdale St: 535m', 'Lonsdale St: 44m', 'Flinders Ln: 607m', 'Rialto Car Park: 656m', 'Russell St: 889m', 'Russell St: 911m', 'Latrobe Street: 371m', 'West Melbourne: 684m', 'Wilson Parking: 208m', 'Secure Parking - 460 Lonsdale Street Car Park: 56m', 'Downie St: 801m', 'Southbank: 327m', 'Bourke St: 439m', 'Melbourne Central Carpark: 533m', 'Flagstaff City Inn: 680m', 'Lonsdale St: 828m', 'Secure Parking (300 Flinders St): 789m', 'Collins St: 557m', 'Queens & Collins: 449m', 'Flagstaff Car Park: 174m', 'Flinders Ln: 634m', 'Bourke St: 329m', 'Cellarbrations: 860m', 'Flinders St: 769m', 'QV Melbourne - Car Park: 828m'], 'Sandridge Rail Bridge': ['Lonsdale St: 972m', 'Bourke St: 830m', 'Secure Parking (450 Flinders Lane): 394m', 'Hyatt Centric Melbourne: 631m', 'Alto Hotel: 853m', 'Collins St: 852m', 'Holiday Inn Express Melbourne Little Collins: 723m', 'Lonsdale St: 979m', 'Lonsdale St: 893m', 'Flinders Ln: 418m', 'Holiday Inn Express Melbourne Southbank: 374m', 'Rialto Car Park: 486m', 'Crown Metropol Melbourne: 753m', 'Wilson Parking Eureka: 259m', 'Southbank: 402m', 'Flinders St: 826m', 'Wilson Parking: 830m', 'Southbank: 299m', 'Secure Parking - 460 Lonsdale Street Car Park: 891m', 'Downie St: 651m', 'Southbank: 605m', 'Southbank: 189m', 'ACDC Garage: 815m', 'Bourke St: 835m', 'Melbourne Central Carpark: 940m', 'Secure Parking (300 Flinders St): 231m', 'Collins St: 729m', 'Queens & Collins: 489m', 'South Wharf: 929m', 'Grand Hyatt Melbourne: 835m', 'Federation Square Car Park: 778m', 'Flinders Ln: 484m', 'The Arts Centre: 499m', 'Bourke St: 573m', 'Flinders St: 255m'], 'Lincoln Square': ['Melbourne Museum: 896m', 'Lygon Street Car park: 386m', 'Queen Victoria Market - Underground Carpark: 682m', 'Queen St: 689m', '300 Latrobe Street - Wilson Car Park: 825m', 'Lonsdale St: 956m', 'Carlton: 393m', 'Melbourne Central Carpark: 996m', 'Lonsdale St: 940m', 'QV Melbourne - Car Park: 939m', 'Carlton: 791m'], 'Flemington Bridge Railway Station': [], 'Carlton Gardens South': ['Melbourne Museum: 205m', 'Lygon Street Car park: 569m', 'Park Hyatt Melbourne: 779m', 'Wilson Parking: 655m', 'Collins St: 995m', 'Lonsdale St: 464m', 'Lonsdale St: 910m', 'Carlton: 564m', 'Russell St: 710m', 'Russell St: 655m', 'Secure Parking (Southern Cross): 726m', 'Parliament PI: 719m', 'Melbourne Central Carpark: 927m', 'Lonsdale St: 656m', 'Bourke St: 672m', 'Lonsdale St: 462m', 'Grand Hyatt Melbourne: 985m', 'QV Melbourne - Car Park: 656m', 'Carlton: 321m'], 'Victoria Police': ['Lonsdale St: 987m', 'Bourke St: 902m', 'Secure Parking (450 Flinders Lane): 715m', 'Park Hyatt Melbourne: 986m', 'Wilson Parking: 589m', 'Collins St: 359m', 'Lonsdale St: 768m', 'Holiday Inn Express Melbourne Little Collins: 995m', '300 Latrobe Street - Wilson Car Park: 883m', 'Lonsdale St: 630m', 'Lonsdale St: 819m', 'Flinders Ln: 727m', 'Holiday Inn Express Melbourne Southbank: 601m', 'Rialto Car Park: 832m', 'Russell St: 531m', 'Russell St: 589m', 'Wilson Parking Eureka: 594m', 'Southbank: 533m', 'Flinders St: 392m', 'Wilson Parking: 901m', 'Southbank: 476m', 'Secure Parking - 460 Lonsdale Street Car Park: 810m', 'Secure Parking (Southern Cross): 522m', 'Southbank: 709m', 'Southbank: 500m', 'ACDC Garage: 377m', 'Melbourne Central Carpark: 589m', 'Lonsdale St: 645m', 'Secure Parking (300 Flinders St): 293m', 'Collins St: 999m', 'Bourke St: 623m', 'Queens & Collins: 442m', 'Lonsdale St: 785m', 'Grand Hyatt Melbourne: 335m', 'Federation Square Car Park: 443m', 'Flinders Ln: 817m', 'The Arts Centre: 700m', 'Bourke St: 617m', 'Flinders St: 277m', 'QV Melbourne - Car Park: 645m'], 'Royal Park Golf Course': [], 'Visy Park': [], 'Batman Park': ['Lonsdale St: 937m', 'Bourke St: 786m', 'South Melbourne: 948m', 'Secure Parking (450 Flinders Lane): 394m', 'Hyatt Centric Melbourne: 177m', 'Alto Hotel: 647m', 'Holiday Inn Express Melbourne Little Collins: 460m', 'Lonsdale St: 984m', 'Flinders Ln: 399m', 'Holiday Inn Express Melbourne Southbank: 877m', 'Rialto Car Park: 316m', 'Melbourne Convention Exhibition Centre: 569m', 'Crown Metropol Melbourne: 417m', 'Wilson Parking Eureka: 748m', 'Southbank: 942m', 'Wilson Parking: 786m', 'Southbank: 856m', 'Secure Parking - 460 Lonsdale Street Car Park: 989m', 'Downie St: 206m', 'Southbank: 658m', 'Southbank: 739m', 'Bourke St: 629m', 'Secure Parking (300 Flinders St): 758m', 'Collins St: 466m', 'Queens & Collins: 781m', 'South Wharf: 464m', 'Flagstaff Car Park: 974m', 'Flinders Ln: 339m', 'The Arts Centre: 971m', 'Bourke St: 716m', 'Flinders St: 772m'], 'Melbourne Town Hall': ['Lonsdale St: 949m', 'Bourke St: 887m', 'Secure Parking (450 Flinders Lane): 789m', 'Park Hyatt Melbourne: 911m', 'Wilson Parking: 435m', 'Collins St: 312m', 'Lonsdale St: 623m', '300 Latrobe Street - Wilson Car Park: 764m', 'Lonsdale St: 496m', 'Lonsdale St: 764m', 'Flinders Ln: 797m', 'Holiday Inn Express Melbourne Southbank: 758m', 'Rialto Car Park: 903m', 'Russell St: 377m', 'Russell St: 435m', 'Wilson Parking Eureka: 749m', 'Southbank: 688m', 'Flinders St: 406m', 'Wilson Parking: 887m', 'Southbank: 632m', 'Secure Parking - 460 Lonsdale Street Car Park: 754m', 'Secure Parking (Southern Cross): 392m', 'Southbank: 722m', 'Parliament PI: 976m', 'Southbank: 654m', 'ACDC Garage: 391m', 'Melbourne Central Carpark: 456m', 'Lonsdale St: 489m', 'Secure Parking (300 Flinders St): 418m', 'Bourke St: 506m', 'Queens & Collins: 454m', 'Lonsdale St: 646m', 'Grand Hyatt Melbourne: 277m', 'Federation Square Car Park: 511m', 'Flagstaff Car Park: 972m', 'Flinders Ln: 885m', 'The Arts Centre: 855m', 'Bourke St: 623m', 'Flinders St: 397m', 'QV Melbourne - Car Park: 489m'], 'Sidney Myer Music Bowl': ['Holiday Inn Express Melbourne Southbank: 724m', 'Wilson Parking Eureka: 854m', 'Southbank: 685m', 'Flinders St: 859m', 'Southbank: 789m', 'Southbank: 897m', 'ACDC Garage: 867m', 'Federation Square Car Park: 691m', 'The Arts Centre: 620m'], 'AAMI Park': ['Pullman Melbourne on the Park: 972m', 'Pullman Melbourne: 992m'], 'Melbourne Star Observation Wheel': ['District Docklands Shopping - West Carpark: 148m', 'Docklands: 132m', 'Docklands: 155m', 'Docklands: 189m'], 'Margaret Court Arena': ['Collins St: 966m', 'Holiday Inn Express Melbourne Southbank: 963m', 'Southbank: 899m', 'Flinders St: 815m', 'Southbank: 992m', 'Pullman Melbourne on the Park: 772m', 'ACDC Garage: 828m', 'Pullman Melbourne: 788m', 'Federation Square Car Park: 682m', 'The Arts Centre: 885m'], 'NGV International': ['Collins St: 897m', 'Holiday Inn Express Melbourne Southbank: 267m', 'South Melbourne: 988m', 'Wilson Parking Eureka: 392m', 'Southbank: 263m', 'Flinders St: 769m', 'Southbank: 365m', 'Southbank: 454m', 'ACDC Garage: 769m', 'Secure Parking (300 Flinders St): 705m', 'Grand Hyatt Melbourne: 909m', 'Federation Square Car Park: 610m', 'The Arts Centre: 150m', 'Flinders St: 725m'], 'Birrarung Marr': ['Park Hyatt Melbourne: 730m', 'Wilson Parking: 886m', 'Collins St: 436m', 'Lonsdale St: 940m', 'Holiday Inn Express Melbourne Southbank: 712m', 'Russell St: 844m', 'Russell St: 886m', 'Wilson Parking Eureka: 809m', 'Southbank: 618m', 'Flinders St: 282m', 'Southbank: 671m', 'Secure Parking (Southern Cross): 699m', 'Pullman Melbourne on the Park: 915m', 'Parliament PI: 828m', 'Southbank: 780m', 'ACDC Garage: 295m', 'Pullman Melbourne: 921m', 'Secure Parking (300 Flinders St): 802m', 'Bourke St: 689m', 'Lonsdale St: 906m', 'Grand Hyatt Melbourne: 469m', 'Federation Square Car Park: 167m', 'The Arts Centre: 706m', 'Flinders St: 802m'], 'Artplay': ['Park Hyatt Melbourne: 826m', 'Wilson Parking: 857m', 'Collins St: 404m', 'Lonsdale St: 943m', 'Holiday Inn Express Melbourne Southbank: 577m', 'Russell St: 809m', 'Russell St: 857m', 'Wilson Parking Eureka: 668m', 'Southbank: 482m', 'Flinders St: 251m', 'Southbank: 528m', 'Secure Parking (Southern Cross): 686m', 'Parliament PI: 922m', 'Southbank: 635m', 'ACDC Garage: 257m', 'Lonsdale St: 964m', 'Secure Parking (300 Flinders St): 661m', 'Bourke St: 703m', 'Queens & Collins: 925m', 'Lonsdale St: 920m', 'Grand Hyatt Melbourne: 429m', 'Federation Square Car Park: 79m', 'The Arts Centre: 586m', 'Flinders St: 663m', 'QV Melbourne - Car Park: 964m'], 'Riverslide Skate Park': ['Collins St: 694m', 'Holiday Inn Express Melbourne Southbank: 567m', 'Wilson Parking Eureka: 690m', 'Southbank: 493m', 'Flinders St: 539m', 'Southbank: 583m', 'Secure Parking (Southern Cross): 974m', 'Southbank: 700m', 'ACDC Garage: 546m', 'Secure Parking (300 Flinders St): 833m', 'Bourke St: 981m', 'Grand Hyatt Melbourne: 720m', 'Federation Square Car Park: 369m', 'The Arts Centre: 511m', 'Flinders St: 843m'], 'Macaulay Railway Station (North Melbourne) - Train stop': ['Park Rises Residences: 891m', 'Kensington: 884m'], 'Kensington Railway Station': ['Park Rises Residences: 512m', 'Kensington: 500m'], 'Royal Park': [], 'Shrine of Rembrance Reserve': ['Secure Parking: 395m', 'Wilson’s Carpark: 407m', 'South Melbourne: 404m', 'Queens Road: 300m'], 'Royal Botanic Gardens': ['Wilson’s Carpark: 855m', 'Queens Road: 773m'], 'Yarra Park': ['Pullman Melbourne on the Park: 582m', 'Pullman Melbourne: 599m'], 'Icehouse': ['District Docklands Shopping - West Carpark: 133m', 'Docklands: 164m', 'Docklands: 313m', 'Docklands: 328m'], 'Parliament Railway Station': ['Melbourne Museum: 844m', 'Park Hyatt Melbourne: 210m', 'Wilson Parking: 528m', 'Collins St: 447m', 'Lonsdale St: 424m', 'Lonsdale St: 914m', 'Russell St: 532m', 'Russell St: 529m', 'Flinders St: 513m', 'Secure Parking (Southern Cross): 371m', 'Pullman Melbourne on the Park: 936m', 'Parliament PI: 265m', 'ACDC Garage: 518m', 'Melbourne Central Carpark: 899m', 'Pullman Melbourne: 928m', 'Lonsdale St: 648m', 'Bourke St: 247m', 'Lonsdale St: 358m', 'Grand Hyatt Melbourne: 465m', 'Federation Square Car Park: 657m', 'QV Melbourne - Car Park: 648m'], 'Flemington Racecourse Railway Station': [], 'Darling Square': ['Richmond Traders Coles: 956m', 'Pullman Melbourne on the Park: 611m', 'Pullman Melbourne: 600m'], 'Parliament Reserve': ['Melbourne Museum: 587m', 'Park Hyatt Melbourne: 329m', 'Wilson Parking: 520m', 'Collins St: 641m', 'Lonsdale St: 331m', 'Lonsdale St: 902m', 'Russell St: 550m', 'Russell St: 520m', 'Flinders St: 741m', 'Secure Parking (Southern Cross): 450m', 'Parliament PI: 294m', 'ACDC Garage: 743m', 'Melbourne Central Carpark: 898m', 'Lonsdale St: 609m', 'Bourke St: 336m', 'Lonsdale St: 261m', 'Grand Hyatt Melbourne: 646m', 'Federation Square Car Park: 897m', 'QV Melbourne - Car Park: 609m', 'Carlton: 754m'], 'North Melbourne Recreation Centre (Aquatic)': [], 'North Melbourne Recreation Centre (Gymnasium)': [], 'Carlton Baths': [], 'Conservatory': ['Park Hyatt Melbourne: 314m', 'Wilson Parking: 990m', 'Collins St: 751m', 'Lonsdale St: 893m', 'Russell St: 984m', 'Russell St: 990m', 'Flinders St: 713m', 'Secure Parking (Southern Cross): 811m', 'Pullman Melbourne on the Park: 466m', 'Parliament PI: 374m', 'ACDC Garage: 726m', 'Pullman Melbourne: 457m', 'Bourke St: 703m', 'Lonsdale St: 824m', 'Grand Hyatt Melbourne: 785m', 'Federation Square Car Park: 762m'], 'Melbourne Visitor Centre': ['Secure Parking (450 Flinders Lane): 805m', 'Park Hyatt Melbourne: 966m', 'Wilson Parking: 716m', 'Collins St: 361m', 'Lonsdale St: 867m', 'Lonsdale St: 813m', 'Lonsdale St: 999m', 'Flinders Ln: 821m', 'Holiday Inn Express Melbourne Southbank: 476m', 'Rialto Car Park: 919m', 'Russell St: 660m', 'Russell St: 716m', 'Wilson Parking Eureka: 505m', 'Southbank: 392m', 'Flinders St: 313m', 'Southbank: 365m', 'Secure Parking - 460 Lonsdale Street Car Park: 990m', 'Secure Parking (Southern Cross): 604m', 'Southbank: 855m', 'Southbank: 430m', 'ACDC Garage: 302m', 'Melbourne Central Carpark: 772m', 'Lonsdale St: 793m', 'Secure Parking (300 Flinders St): 349m', 'Bourke St: 678m', 'Queens & Collins: 600m', 'Lonsdale St: 870m', 'Grand Hyatt Melbourne: 356m', 'Federation Square Car Park: 293m', 'Flinders Ln: 908m', 'The Arts Centre: 554m', 'Bourke St: 770m', 'Flinders St: 346m', 'QV Melbourne - Car Park: 793m'], 'Melbourne Visitor Booth': ['Lonsdale St: 748m', 'Bourke St: 707m', 'Secure Parking (450 Flinders Lane): 724m', 'Wilson Parking: 420m', 'Alto Hotel: 897m', 'Queen Victoria Market - Underground Carpark: 871m', 'Collins St: 510m', 'Queen St: 875m', 'Lonsdale St: 634m', 'Holiday Inn Express Melbourne Little Collins: 912m', '300 Latrobe Street - Wilson Car Park: 548m', 'Lonsdale St: 301m', 'Lonsdale St: 554m', 'Flinders Ln: 725m', 'Holiday Inn Express Melbourne Southbank: 904m', 'Rialto Car Park: 828m', 'Russell St: 374m', 'Russell St: 420m', 'Latrobe Street: 964m', 'Wilson Parking Eureka: 867m', 'Southbank: 849m', 'Flinders St: 625m', 'Wilson Parking: 706m', 'Southbank: 775m', 'Secure Parking - 460 Lonsdale Street Car Park: 543m', 'Secure Parking (Southern Cross): 478m', 'Southbank: 578m', 'Southbank: 765m', 'ACDC Garage: 610m', 'Bourke St: 890m', 'Melbourne Central Carpark: 259m', 'Lonsdale St: 411m', 'Secure Parking (300 Flinders St): 481m', 'Collins St: 913m', 'Bourke St: 606m', 'Queens & Collins: 339m', 'Lonsdale St: 680m', 'Grand Hyatt Melbourne: 472m', 'Federation Square Car Park: 735m', 'Flagstaff Car Park: 767m', 'Flinders Ln: 807m', 'Bourke St: 478m', 'Flinders St: 455m', 'QV Melbourne - Car Park: 411m'], 'State Netball Hockey Centre': [], 'University Square': ['Lygon Street Car park: 618m', 'Queen Victoria Market - Underground Carpark: 843m', 'Queen St: 847m', 'Carlton: 625m'], 'Powlett Reserve': ['Park Hyatt Melbourne: 980m', 'Collingwood Library: 960m', 'Pullman Melbourne on the Park: 596m', 'Parliament PI: 954m', 'Collingwood Library: 978m', 'Pullman Melbourne: 579m'], 'Melbourne General Cemetery': [], 'Southern Cross Railway Station': ['Lonsdale St: 587m', 'Bourke St: 486m', 'Secure Parking (450 Flinders Lane): 524m', 'Hyatt Centric Melbourne: 353m', 'Alto Hotel: 259m', 'Holiday Inn Express Melbourne Little Collins: 209m', 'Lonsdale St: 730m', 'Flinders Ln: 504m', 'Rialto Car Park: 423m', 'Melbourne Convention Exhibition Centre: 886m', 'Latrobe Street: 641m', 'Crown Metropol Melbourne: 917m', 'West Melbourne: 912m', 'Wilson Parking: 486m', 'Secure Parking - 460 Lonsdale Street Car Park: 740m', 'Downie St: 323m', 'Southbank: 533m', 'Bourke St: 254m', 'Flagstaff City Inn: 910m', 'Secure Parking (300 Flinders St): 973m', 'Collins St: 205m', 'Queens & Collins: 790m', 'South Wharf: 880m', 'Flagstaff Car Park: 613m', 'Flinders Ln: 426m', 'Bourke St: 633m', 'Cellarbrations: 994m', 'Flinders St: 972m'], 'State Library Victoria': ['Lonsdale St: 831m', 'Melbourne Museum: 948m', 'Bourke St: 874m', 'Lygon Street Car park: 903m', 'Wilson Parking: 339m', 'Queen Victoria Market - Underground Carpark: 584m', 'Collins St: 750m', 'Queen St: 592m', 'Lonsdale St: 471m', '300 Latrobe Street - Wilson Car Park: 323m', 'Lonsdale St: 175m', 'Lonsdale St: 638m', 'Carlton: 905m', 'Russell St: 358m', 'Russell St: 339m', 'Latrobe Street: 979m', 'Flinders St: 903m', 'Wilson Parking: 874m', 'Secure Parking - 460 Lonsdale Street Car Park: 626m', 'Secure Parking (Southern Cross): 533m', 'Southbank: 854m', 'ACDC Garage: 892m', 'Melbourne Central Carpark: 207m', 'Lonsdale St: 214m', 'Secure Parking (300 Flinders St): 921m', 'Bourke St: 625m', 'Queens & Collins: 707m', 'Lonsdale St: 544m', 'Grand Hyatt Melbourne: 716m', 'Flagstaff Car Park: 829m', 'Bourke St: 774m', 'Flinders St: 895m', 'QV Melbourne - Car Park: 213m', 'Carlton: 997m'], 'Supreme Court': ['Lonsdale St: 189m', 'Bourke St: 145m', 'Secure Parking (450 Flinders Lane): 519m', 'Hyatt Centric Melbourne: 719m', 'Wilson Parking: 928m', 'Alto Hotel: 369m', 'Queen Victoria Market - Underground Carpark: 706m', 'Queen St: 704m', 'Holiday Inn Express Melbourne Little Collins: 471m', '300 Latrobe Street - Wilson Car Park: 519m', 'Lonsdale St: 572m', 'Lonsdale St: 122m', 'Flinders Ln: 500m', 'Rialto Car Park: 551m', 'Russell St: 900m', 'Russell St: 928m', 'Latrobe Street: 422m', 'West Melbourne: 753m', 'Wilson Parking: 144m', 'Secure Parking - 460 Lonsdale Street Car Park: 128m', 'Downie St: 703m', 'Southbank: 221m', 'Southbank: 969m', 'Bourke St: 370m', 'Melbourne Central Carpark: 562m', 'Flagstaff City Inn: 750m', 'Lonsdale St: 857m', 'Secure Parking (300 Flinders St): 706m', 'Collins St: 469m', 'Queens & Collins: 373m', 'Flagstaff Car Park: 220m', 'Flinders Ln: 529m', 'Bourke St: 233m', 'Cellarbrations: 924m', 'Flinders St: 689m', 'QV Melbourne - Car Park: 856m'], 'Richmond Football Club': ['Pullman Melbourne on the Park: 765m', 'Pullman Melbourne: 782m'], 'Melbourne Zoo': [], 'Melbourne International Shooting Club': ['Lorbek Luxury Cars: 708m', 'Lorbek Luxury Cars: 606m', 'Port Melbourne: 589m', 'Port Melbourne: 705m', 'Port Melbourne: 332m', 'Coles Express with co-located Hungry Jacks: 334m'], 'Docklands Park': ['Hyatt Centric Melbourne: 795m', 'Alto Hotel: 868m', 'Holiday Inn Express Melbourne Little Collins: 825m', 'Rialto Car Park: 974m', 'Melbourne Convention Exhibition Centre: 796m', 'Downie St: 776m', 'Bourke St: 869m', 'Collins St: 823m', 'South Wharf: 919m', 'Flinders Ln: 987m'], 'Point Park': [], 'Melbourne Theatre Company': ['Secure Parking: 912m', 'South Melbourne: 927m', 'South Melbourne: 976m', 'Holiday Inn Express Melbourne Southbank: 268m', 'South Melbourne: 888m', 'Crown Metropol Melbourne: 948m', 'Wilson Parking Eureka: 367m', 'Southbank: 311m', 'Flinders St: 889m', 'Southbank: 393m', 'Southbank: 451m', 'ACDC Garage: 888m', 'Secure Parking (300 Flinders St): 733m', 'Federation Square Car Park: 736m', 'The Arts Centre: 145m', 'Flinders St: 756m'], 'Alexandra Gardens': ['Collins St: 644m', 'Holiday Inn Express Melbourne Southbank: 474m', 'Wilson Parking Eureka: 594m', 'Southbank: 396m', 'Flinders St: 494m', 'Southbank: 482m', 'Secure Parking (Southern Cross): 928m', 'Southbank: 599m', 'ACDC Garage: 499m', 'Secure Parking (300 Flinders St): 731m', 'Bourke St: 947m', 'Grand Hyatt Melbourne: 667m', 'Federation Square Car Park: 321m', 'The Arts Centre: 431m', 'Flinders St: 741m'], 'Richmond Railway Station (Richmond) - Train stop': [], 'Jolimont-MCG Railway Station (East Melbourne) - Train stop': ['Park Hyatt Melbourne: 837m', 'Pullman Melbourne on the Park: 73m', 'Parliament PI: 879m', 'Pullman Melbourne: 90m'], 'North Melbourne Recreation Reserve': [], 'Princes Park': [], 'Shrine of Remembrance': ['Secure Parking: 434m', 'Wilson’s Carpark: 614m', 'South Melbourne: 430m', 'Queens Road: 508m', 'The Arts Centre: 975m'], 'Showgrounds Railway Station (Flemington)': [], 'Newmarket Railway Station': [], 'Melbourne Showgrounds': [], 'Argyle Square': ['Melbourne Museum: 631m', 'Lygon Street Car park: 159m', 'Wilson Parking: 924m', 'Queen Victoria Market - Underground Carpark: 836m', 'Queen St: 845m', 'Lonsdale St: 843m', '300 Latrobe Street - Wilson Car Park: 886m', 'Lonsdale St: 938m', 'Carlton: 165m', 'Russell St: 977m', 'Russell St: 923m', 'Melbourne Central Carpark: 975m', 'Lonsdale St: 840m', 'Lonsdale St: 886m', 'QV Melbourne - Car Park: 840m', 'Carlton: 526m'], 'Piazza Italia': ['Melbourne Museum: 644m', 'Lygon Street Car park: 114m', 'Wilson Parking: 991m', 'Queen Victoria Market - Underground Carpark: 888m', 'Queen St: 897m', 'Lonsdale St: 904m', '300 Latrobe Street - Wilson Car Park: 952m', 'Carlton: 120m', 'Russell St: 991m', 'Lonsdale St: 910m', 'Lonsdale St: 945m', 'QV Melbourne - Car Park: 910m', 'Carlton: 523m'], 'Murchinson Square': ['Melbourne Museum: 483m', 'Lygon Street Car park: 565m', 'Carlton: 559m', 'Carlton: 345m'], 'Westpac Centre': ['Pullman Melbourne on the Park: 968m', 'Pullman Melbourne: 987m'], 'Webb Bridge': ['Hyatt Centric Melbourne: 809m', 'Holiday Inn Express Melbourne Little Collins: 921m', 'Melbourne Convention Exhibition Centre: 605m', 'Crown Metropol Melbourne: 949m', 'Downie St: 800m', 'Collins St: 920m', 'South Wharf: 758m']}\n"
     ]
    }
   ],
   "source": [
    "# Compare landmark location with data in dataset 1 (df_EV_1)\n",
    "df_EV_1 = df_EV_1[['Location Name','Latitude','Longitude']]\n",
    "\n",
    "landmarks_charger_number = {}\n",
    "landmarks_charger_info = {}\n",
    "\n",
    "for i in range(df_landmarks.shape[0]):\n",
    "    geo_co = df_landmarks.at[i,'co_ordinates']\n",
    "    lati,longi = geo_co.split(', ')\n",
    "\n",
    "    lat_1 = float(lati)\n",
    "    lon_1 = float(longi)\n",
    "    landmark_name = df_landmarks.at[i,'feature_name']\n",
    "\n",
    "    info_dict = []\n",
    "    EV_number = 0\n",
    "\n",
    "    for j in range(df_EV_1.shape[0]):\n",
    "\n",
    "        EV_name = df_EV_1.at[j,'Location Name']\n",
    "        lat_2 = df_EV_1.at[j,'Latitude']\n",
    "        lon_2 = df_EV_1.at[j,'Longitude']\n",
    "        distance = calculate_distance(lat_1,lon_1,lat_2,lon_2)\n",
    "\n",
    "        if distance <= 1000:\n",
    "            EV_number +=1\n",
    "            info_dict.append(EV_name + ': ' + str(int(distance)) + 'm') \n",
    "    \n",
    "    for n in range(df_EV_2.shape[0]):\n",
    "\n",
    "        EV_name = df_EV_2.at[n,'Location Name']\n",
    "        lat_2 = df_EV_2.at[n,'Latitude']\n",
    "        lon_2 = df_EV_1.at[n,'Longitude']\n",
    "        distance = calculate_distance(lat_1,lon_1,lat_2,lon_2)\n",
    "\n",
    "        if distance <= 1000:\n",
    "            EV_number +=1\n",
    "            info_dict.append(EV_name + ': ' + str(int(distance)) + 'm') \n",
    "        \n",
    "    landmarks_charger_number[landmark_name] = EV_number\n",
    "    landmarks_charger_info[landmark_name] = info_dict\n",
    "\n",
    "print(landmarks_charger_number)\n",
    "print(landmarks_charger_info)"
   ]
  },
  {
   "cell_type": "code",
   "execution_count": 45,
   "metadata": {},
   "outputs": [],
   "source": [
    "# integrate data to one dataframe and out write to a csv file\n",
    "\n",
    "data = {'Landmark Name':[],'Number of EV charger station':[],'Name and distance of each station':[]}\n",
    "\n",
    "for name,number in landmarks_charger_number.items():\n",
    "    data['Landmark Name'].append(name)\n",
    "    data['Number of EV charger station'].append(number)\n",
    "    if number == 0:\n",
    "        data['Name and distance of each station'].append('N/a')\n",
    "    else:\n",
    "        info = ''\n",
    "        for item in landmarks_charger_info[name]:\n",
    "            info += item\n",
    "            info += ', '\n",
    "        data['Name and distance of each station'].append(info)\n",
    "\n",
    "df_output = pd.DataFrame.from_dict(data)\n",
    "df_output.to_csv('EV charger station info around public locations.csv') \n"
   ]
  },
  {
   "cell_type": "markdown",
   "metadata": {},
   "source": [
    "Step 3: Review the result and get some conclusions\n",
    "- print out locations with no EV charger station within 1 km\n",
    "- print out top 10 locations with the most EV charger stations around"
   ]
  },
  {
   "cell_type": "code",
   "execution_count": 52,
   "metadata": {},
   "outputs": [
    {
     "name": "stdout",
     "output_type": "stream",
     "text": [
      "23 landmarks in city of Melbourne has no EV charger station within 1 km:\n",
      "\n",
      "Port of Melbourne\n",
      "Carlton Football Club\n",
      "Flemington Racecourse\n",
      "Newmarket Reserve\n",
      "Royal Park Railway Station\n",
      "Flemington Bridge Railway Station\n",
      "Royal Park Golf Course\n",
      "Visy Park\n",
      "Royal Park\n",
      "Flemington Racecourse Railway Station\n",
      "North Melbourne Recreation Centre (Aquatic)\n",
      "North Melbourne Recreation Centre (Gymnasium)\n",
      "Carlton Baths\n",
      "State Netball Hockey Centre\n",
      "Melbourne General Cemetery\n",
      "Melbourne Zoo\n",
      "Point Park\n",
      "Richmond Railway Station (Richmond) - Train stop\n",
      "North Melbourne Recreation Reserve\n",
      "Princes Park\n",
      "Showgrounds Railway Station (Flemington)\n",
      "Newmarket Railway Station\n",
      "Melbourne Showgrounds\n"
     ]
    }
   ],
   "source": [
    "# print locations with no EV charger station within 1 km\n",
    "li = []\n",
    "n = 0\n",
    "for location,number in landmarks_charger_number.items():\n",
    "    if number == 0:\n",
    "        li.append(location)\n",
    "        n += 1\n",
    "print(n,'landmarks in city of Melbourne has no EV charger station within 1 km:')\n",
    "print('')\n",
    "print('\\n'.join(li))\n"
   ]
  },
  {
   "cell_type": "code",
   "execution_count": 56,
   "metadata": {},
   "outputs": [
    {
     "name": "stdout",
     "output_type": "stream",
     "text": [
      "10 locations with the most EV charger stations within 1 km in city of Melbourne:\n",
      "Melbourne Visitor Booth 44\n",
      "Victoria Police 40\n",
      "Melbourne Town Hall 40\n",
      "Melbourne Childrens Court 36\n",
      "Supreme Court 36\n",
      "Melbourne Magistrates Court 35\n",
      "Flinders Street Railway Station 35\n",
      "County Court Melbourne 35\n",
      "Sandridge Rail Bridge 35\n",
      "Melbourne Visitor Centre 34\n"
     ]
    }
   ],
   "source": [
    "# print 10 locations with the most EV charger stations within 1 km\n",
    "print('10 locations with the most EV charger stations within 1 km in city of Melbourne:')\n",
    "top10_landmarks = dict(sorted(landmarks_charger_number.items(), key=lambda item: item[1],reverse=True))\n",
    "\n",
    "for name in list(top10_landmarks.keys())[:10]:\n",
    "    print(name, landmarks_charger_number[name])"
   ]
  }
 ],
 "metadata": {
  "kernelspec": {
   "display_name": "dpython",
   "language": "python",
   "name": "python3"
  },
  "language_info": {
   "codemirror_mode": {
    "name": "ipython",
    "version": 3
   },
   "file_extension": ".py",
   "mimetype": "text/x-python",
   "name": "python",
   "nbconvert_exporter": "python",
   "pygments_lexer": "ipython3",
   "version": "3.10.8"
  },
  "orig_nbformat": 4
 },
 "nbformat": 4,
 "nbformat_minor": 2
}
